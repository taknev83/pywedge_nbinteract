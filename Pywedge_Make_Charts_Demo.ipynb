{
 "cells": [
  {
   "cell_type": "code",
   "execution_count": 1,
   "metadata": {
    "extensions": {
     "jupyter_dashboards": {
      "version": 1,
      "views": {
       "default_view": {
        "col": 0,
        "height": 2,
        "hidden": false,
        "row": 27,
        "width": 12
       }
      }
     }
    }
   },
   "outputs": [],
   "source": [
    "import pywedge as pw"
   ]
  },
  {
   "cell_type": "code",
   "execution_count": 2,
   "metadata": {
    "extensions": {
     "jupyter_dashboards": {
      "version": 1,
      "views": {
       "default_view": {
        "col": 0,
        "height": 1,
        "hidden": true,
        "row": 0,
        "width": 12
       }
      }
     }
    }
   },
   "outputs": [],
   "source": [
    "import pandas as pd\n",
    "train = pd.read_csv('https://raw.githubusercontent.com/taknev83/datasets/master/credit_risk_train.csv')"
   ]
  },
  {
   "cell_type": "code",
   "execution_count": 3,
   "metadata": {
    "extensions": {
     "jupyter_dashboards": {
      "version": 1,
      "views": {
       "default_view": {
        "col": 0,
        "height": 2,
        "hidden": true,
        "row": 24,
        "width": 12
       }
      }
     }
    }
   },
   "outputs": [],
   "source": [
    "mc = pw.Pywedge_Charts(train, c=None, y = 'class', manual=False)"
   ]
  },
  {
   "cell_type": "markdown",
   "metadata": {
    "extensions": {
     "jupyter_dashboards": {
      "version": 1,
      "views": {
       "default_view": {
        "col": 0,
        "height": 3,
        "hidden": false,
        "row": 0,
        "width": 12
       }
      }
     }
    }
   },
   "source": [
    "# <span style='color:Green'> Pywedge Make_Charts Web App Demo </span>\n",
    "\n",
    "### <span style='color:Green'> Credit risk demo dataset </span>"
   ]
  },
  {
   "cell_type": "code",
   "execution_count": 4,
   "metadata": {
    "extensions": {
     "jupyter_dashboards": {
      "version": 1,
      "views": {
       "default_view": {
        "col": 0,
        "height": 24,
        "hidden": false,
        "row": 3,
        "width": 12
       }
      }
     }
    }
   },
   "outputs": [
    {
     "data": {
      "application/vnd.jupyter.widget-view+json": {
       "model_id": "46898acf2b1a4efeaa833708df7e2149",
       "version_major": 2,
       "version_minor": 0
      },
      "text/plain": [
       "HTML(value='<h2>Pywedge Make_Charts </h2>')"
      ]
     },
     "metadata": {},
     "output_type": "display_data"
    },
    {
     "data": {
      "application/vnd.jupyter.widget-view+json": {
       "model_id": "18a1ca16458c4573ad563c78a7e5d14b",
       "version_major": 2,
       "version_minor": 0
      },
      "text/plain": [
       "Tab(children=(Output(), Output(), Output(), Output(), Output(), Output(), Output(), Output()), _titles={'0': '…"
      ]
     },
     "metadata": {},
     "output_type": "display_data"
    },
    {
     "data": {
      "application/vnd.jupyter.widget-view+json": {
       "model_id": "71f56c1cf641456eb994587065f866f6",
       "version_major": 2,
       "version_minor": 0
      },
      "text/plain": [
       "HTML(value='<h4><em>Charts compiled by Pywedge make_charts </em></h4>')"
      ]
     },
     "metadata": {},
     "output_type": "display_data"
    }
   ],
   "source": [
    "charts = mc.make_charts()"
   ]
  }
 ],
 "metadata": {
  "extensions": {
   "jupyter_dashboards": {
    "activeView": "default_view",
    "version": 1,
    "views": {
     "default_view": {
      "cellMargin": 10,
      "defaultCellHeight": 40,
      "maxColumns": 12,
      "name": "active_view",
      "type": "grid"
     }
    }
   }
  },
  "kernelspec": {
   "display_name": "Python 3",
   "language": "python",
   "name": "python3"
  },
  "language_info": {
   "codemirror_mode": {
    "name": "ipython",
    "version": 3
   },
   "file_extension": ".py",
   "mimetype": "text/x-python",
   "name": "python",
   "nbconvert_exporter": "python",
   "pygments_lexer": "ipython3",
   "version": "3.7.6"
  },
  "widgets": {
   "application/vnd.jupyter.widget-state+json": {
    "state": {
     "00395bdebec348c4ba3e28e5610e1db8": {
      "model_module": "@jupyter-widgets/base",
      "model_module_version": "1.2.0",
      "model_name": "LayoutModel",
      "state": {}
     },
     "00682d36f2a04b67848b3f4c6587b5b1": {
      "model_module": "@jupyter-widgets/base",
      "model_module_version": "1.2.0",
      "model_name": "LayoutModel",
      "state": {}
     },
     "0216d6e5c7f94d9bbeda9315da83ed44": {
      "model_module": "@jupyter-widgets/base",
      "model_module_version": "1.2.0",
      "model_name": "LayoutModel",
      "state": {}
     },
     "022387765e4e47e88fdacdc871ea2a61": {
      "model_module": "@jupyter-widgets/controls",
      "model_module_version": "1.5.0",
      "model_name": "VBoxModel",
      "state": {
       "_dom_classes": [
        "widget-interact"
       ],
       "children": [
        "IPY_MODEL_8dfa8a66dc8a47fa841b8d7c842ec7aa",
        "IPY_MODEL_6ea90c068c5b403e98ede88d40ce80fe",
        "IPY_MODEL_27fb3384cc094846a9f05e38ae6b4d19"
       ],
       "layout": "IPY_MODEL_9983440fa1e24b12b2a382a957bcb387"
      }
     },
     "02323d2fa0bc4b94aa8a8e6523f5786e": {
      "model_module": "@jupyter-widgets/base",
      "model_module_version": "1.2.0",
      "model_name": "LayoutModel",
      "state": {}
     },
     "0260f84999da44039842b7082ba62f4f": {
      "model_module": "@jupyter-widgets/controls",
      "model_module_version": "1.5.0",
      "model_name": "DropdownModel",
      "state": {
       "_options_labels": [
        "checking_status",
        "credit_history",
        "purpose",
        "savings_status",
        "employment",
        "personal_status",
        "other_parties",
        "property_magnitude",
        "other_payment_plans",
        "housing",
        "job",
        "own_telephone",
        "foreign_worker",
        "class"
       ],
       "description": "Color",
       "index": 0,
       "layout": "IPY_MODEL_d0b3ac947e824bd8ab5fa67b43aaae1e",
       "style": "IPY_MODEL_c218f6b30b9145289e16a103bdf1bf05"
      }
     },
     "026ec96fc02648f49d93e8f6d50375ba": {
      "model_module": "@jupyter-widgets/base",
      "model_module_version": "1.2.0",
      "model_name": "LayoutModel",
      "state": {}
     },
     "02f10a656c0948dd8eca408c06c8b20e": {
      "model_module": "@jupyter-widgets/base",
      "model_module_version": "1.2.0",
      "model_name": "LayoutModel",
      "state": {}
     },
     "0348b9f36af548cfaa720144c247a1b5": {
      "model_module": "@jupyter-widgets/controls",
      "model_module_version": "1.5.0",
      "model_name": "DescriptionStyleModel",
      "state": {
       "description_width": ""
      }
     },
     "03c99b665d6c4cf29846e0ad205c044e": {
      "model_module": "@jupyter-widgets/base",
      "model_module_version": "1.2.0",
      "model_name": "LayoutModel",
      "state": {}
     },
     "04d570713c2447ce80b841b7fea8b425": {
      "model_module": "@jupyter-widgets/base",
      "model_module_version": "1.2.0",
      "model_name": "LayoutModel",
      "state": {}
     },
     "050578abf6ad44a880fe15d138972e73": {
      "model_module": "@jupyter-widgets/output",
      "model_module_version": "1.0.0",
      "model_name": "OutputModel",
      "state": {
       "layout": "IPY_MODEL_ff855596123e4022b03119a7fd28aa10"
      }
     },
     "065cc8ca035942338053c335c82c43a7": {
      "model_module": "@jupyter-widgets/controls",
      "model_module_version": "1.5.0",
      "model_name": "VBoxModel",
      "state": {
       "_dom_classes": [
        "widget-interact"
       ],
       "children": [
        "IPY_MODEL_9afbed515bc14ef4bcccd08961fddf7b",
        "IPY_MODEL_3e0840121922473fa9ab5fc444981834",
        "IPY_MODEL_7122d774188f4e0eb54b3ce5954d8098",
        "IPY_MODEL_886cb407f23c4c6e9449746d8e921add",
        "IPY_MODEL_62dc032bb12a4d11bda907b5370beb2a"
       ],
       "layout": "IPY_MODEL_2b81367e6b62427798c4b89b3a4b3142"
      }
     },
     "07c02351e93345378bf33892797c3af6": {
      "model_module": "@jupyter-widgets/controls",
      "model_module_version": "1.5.0",
      "model_name": "VBoxModel",
      "state": {
       "_dom_classes": [
        "widget-interact"
       ],
       "children": [
        "IPY_MODEL_db800f4b51144fc29f3c77c2755518c8",
        "IPY_MODEL_deca311b3a6b4867be7a0561ee67f2a1",
        "IPY_MODEL_362672d3d1bb4eefa2ba5c251b62d363",
        "IPY_MODEL_f5653298370e4d999cb4f3d08bdf138a",
        "IPY_MODEL_c4cb392ec29743c3bb073e3a35f19eb2"
       ],
       "layout": "IPY_MODEL_0907655223f944698258db3491e42532"
      }
     },
     "07c72d8d856343b7b0c7f18240d7cb32": {
      "model_module": "@jupyter-widgets/controls",
      "model_module_version": "1.5.0",
      "model_name": "DropdownModel",
      "state": {
       "_options_labels": [
        "credit_amount",
        "installment_commitment",
        "residence_since",
        "age",
        "existing_credits",
        "num_dependents"
       ],
       "description": "Y_Axis",
       "index": 0,
       "layout": "IPY_MODEL_a756076107ee4234b6e86d830dfe38d8",
       "style": "IPY_MODEL_7de1cbd84c91408689b47270fdf3c0ed"
      }
     },
     "08d6b37d977b41618d5d84d77172f52e": {
      "model_module": "@jupyter-widgets/output",
      "model_module_version": "1.0.0",
      "model_name": "OutputModel",
      "state": {
       "layout": "IPY_MODEL_da281b97877645ae91039bd56849e650"
      }
     },
     "0907655223f944698258db3491e42532": {
      "model_module": "@jupyter-widgets/base",
      "model_module_version": "1.2.0",
      "model_name": "LayoutModel",
      "state": {}
     },
     "0957ee0019ad406d81dfc96a9b9d6229": {
      "model_module": "@jupyter-widgets/controls",
      "model_module_version": "1.5.0",
      "model_name": "ButtonStyleModel",
      "state": {}
     },
     "095b5629d52142678b0546398d4a9763": {
      "model_module": "@jupyter-widgets/base",
      "model_module_version": "1.2.0",
      "model_name": "LayoutModel",
      "state": {}
     },
     "0af6c7b438f2447abaf985aa56841af9": {
      "model_module": "@jupyter-widgets/base",
      "model_module_version": "1.2.0",
      "model_name": "LayoutModel",
      "state": {}
     },
     "0c79dd63a9d94dcca80e215b77c4a5b6": {
      "model_module": "@jupyter-widgets/controls",
      "model_module_version": "1.5.0",
      "model_name": "DropdownModel",
      "state": {
       "_options_labels": [
        "checking_status",
        "credit_history",
        "purpose",
        "savings_status",
        "employment",
        "personal_status",
        "other_parties",
        "property_magnitude",
        "other_payment_plans",
        "housing",
        "job",
        "own_telephone",
        "foreign_worker",
        "class"
       ],
       "description": "Labels",
       "index": 0,
       "layout": "IPY_MODEL_2f8feeb22e994686ac1883fba7c68ad7",
       "style": "IPY_MODEL_e60f8e00e9e44e1e8d122496605fa0ed"
      }
     },
     "0c907b0f95724da5a2f05e8b3ce5eab6": {
      "model_module": "@jupyter-widgets/base",
      "model_module_version": "1.2.0",
      "model_name": "LayoutModel",
      "state": {}
     },
     "0c9ce517cfd647d49d87e60131194d7d": {
      "model_module": "@jupyter-widgets/controls",
      "model_module_version": "1.5.0",
      "model_name": "ButtonModel",
      "state": {
       "description": "Make_Chart",
       "layout": "IPY_MODEL_f9d8a8c2f9f14a339de1ae0d5dd74a0f",
       "style": "IPY_MODEL_4994393bb71e495c968c974376bf79c4"
      }
     },
     "0ca9fb4a06194289b3b72fd29fe1afd5": {
      "model_module": "@jupyter-widgets/controls",
      "model_module_version": "1.5.0",
      "model_name": "DropdownModel",
      "state": {
       "_options_labels": [
        "checking_status",
        "credit_history",
        "purpose",
        "savings_status",
        "employment",
        "personal_status",
        "other_parties",
        "property_magnitude",
        "other_payment_plans",
        "housing",
        "job",
        "own_telephone",
        "foreign_worker",
        "class"
       ],
       "description": "Color",
       "index": 0,
       "layout": "IPY_MODEL_51a25d7c4b374bc9bc8a748c6b166a0b",
       "style": "IPY_MODEL_6d0e4b44d4c643d99745ef71b6751152"
      }
     },
     "0cbcf15de977407aa4df3949209c77ec": {
      "model_module": "@jupyter-widgets/base",
      "model_module_version": "1.2.0",
      "model_name": "LayoutModel",
      "state": {}
     },
     "0d71b1915cc14b939f9657f95c47e236": {
      "model_module": "@jupyter-widgets/controls",
      "model_module_version": "1.5.0",
      "model_name": "DescriptionStyleModel",
      "state": {
       "description_width": ""
      }
     },
     "0e0e2a42747c44a8800ea38c8a18260e": {
      "model_module": "@jupyter-widgets/controls",
      "model_module_version": "1.5.0",
      "model_name": "ButtonModel",
      "state": {
       "description": "Make_Chart",
       "layout": "IPY_MODEL_789516bfb14c437c93e3efdf644d8e84",
       "style": "IPY_MODEL_4611391216974621bf1073bafde7cff2"
      }
     },
     "0ee59b9fa7564917b35aceece128c698": {
      "model_module": "@jupyter-widgets/base",
      "model_module_version": "1.2.0",
      "model_name": "LayoutModel",
      "state": {}
     },
     "0f0ee89d551e4be19fc56b98907984bb": {
      "model_module": "@jupyter-widgets/controls",
      "model_module_version": "1.5.0",
      "model_name": "HBoxModel",
      "state": {
       "children": [
        "IPY_MODEL_271ac37232cd48bd988edb539049be75",
        "IPY_MODEL_2cda0bd1e1804cd09c1c486105223179"
       ],
       "layout": "IPY_MODEL_8aa26656e8b14250b696a7d2f05f9143"
      }
     },
     "0f11c3203cfd4b69b7079f113d81ad5b": {
      "model_module": "@jupyter-widgets/base",
      "model_module_version": "1.2.0",
      "model_name": "LayoutModel",
      "state": {}
     },
     "0f39e19785cf49b0b3bd32299caf8a96": {
      "model_module": "@jupyter-widgets/output",
      "model_module_version": "1.0.0",
      "model_name": "OutputModel",
      "state": {
       "layout": "IPY_MODEL_3c06b2ef944f480d8406fdb37dd5354f"
      }
     },
     "1022fe5be1e74b6e9759bb8c18479d5b": {
      "model_module": "@jupyter-widgets/controls",
      "model_module_version": "1.5.0",
      "model_name": "DescriptionStyleModel",
      "state": {
       "description_width": ""
      }
     },
     "11273ce2516d429baaa262034a30829e": {
      "model_module": "@jupyter-widgets/controls",
      "model_module_version": "1.5.0",
      "model_name": "DescriptionStyleModel",
      "state": {
       "description_width": ""
      }
     },
     "114b13f7735a4e2a973661cf80167875": {
      "model_module": "@jupyter-widgets/controls",
      "model_module_version": "1.5.0",
      "model_name": "DescriptionStyleModel",
      "state": {
       "description_width": ""
      }
     },
     "117e0925825a46bebd48ca5a6b1b69c4": {
      "model_module": "@jupyter-widgets/controls",
      "model_module_version": "1.5.0",
      "model_name": "DropdownModel",
      "state": {
       "_options_labels": [
        "checking_status",
        "credit_history",
        "purpose",
        "savings_status",
        "employment",
        "personal_status",
        "other_parties",
        "property_magnitude",
        "other_payment_plans",
        "housing",
        "job",
        "own_telephone",
        "foreign_worker",
        "class"
       ],
       "description": "Color",
       "index": 0,
       "layout": "IPY_MODEL_f2c94efe057e437ba1141744895d2963",
       "style": "IPY_MODEL_4c8bf3c9ac584361ae501c6709befd28"
      }
     },
     "1190aa72e86f4a1297b81381dd1124a3": {
      "model_module": "@jupyter-widgets/output",
      "model_module_version": "1.0.0",
      "model_name": "OutputModel",
      "state": {
       "layout": "IPY_MODEL_9e42e7eec154419a85f6811259deb67d"
      }
     },
     "11de9de041a34a4bb36b45190666cbe9": {
      "model_module": "@jupyter-widgets/base",
      "model_module_version": "1.2.0",
      "model_name": "LayoutModel",
      "state": {}
     },
     "120cb1e35d5a4b4e9c758bece65006c1": {
      "model_module": "@jupyter-widgets/base",
      "model_module_version": "1.2.0",
      "model_name": "LayoutModel",
      "state": {}
     },
     "12f81c95268845b183dfa1c4b2bed442": {
      "model_module": "@jupyter-widgets/base",
      "model_module_version": "1.2.0",
      "model_name": "LayoutModel",
      "state": {}
     },
     "154c6e97ba584981b666fb22a6539d57": {
      "model_module": "@jupyter-widgets/output",
      "model_module_version": "1.0.0",
      "model_name": "OutputModel",
      "state": {
       "layout": "IPY_MODEL_c88920f391054ae1bb7d29022de6a9f2"
      }
     },
     "160da091d4384508a309e2172ea0690f": {
      "model_module": "@jupyter-widgets/output",
      "model_module_version": "1.0.0",
      "model_name": "OutputModel",
      "state": {
       "layout": "IPY_MODEL_b6a5c23f567b44df97dbf33148255846"
      }
     },
     "1696d079e76d49718ecce010567f7909": {
      "model_module": "@jupyter-widgets/controls",
      "model_module_version": "1.5.0",
      "model_name": "DropdownModel",
      "state": {
       "_options_labels": [
        "checking_status",
        "credit_history",
        "purpose",
        "savings_status",
        "employment",
        "personal_status",
        "other_parties",
        "property_magnitude",
        "other_payment_plans",
        "housing",
        "job",
        "own_telephone",
        "foreign_worker",
        "class"
       ],
       "description": "X_Axis",
       "index": 0,
       "layout": "IPY_MODEL_e1944e73af604b7198b67c0449de0348",
       "style": "IPY_MODEL_1c9b2a82e62c4219859b5e69d97490ca"
      }
     },
     "16cd830e21e4463c8ea0517bf9163842": {
      "model_module": "@jupyter-widgets/controls",
      "model_module_version": "1.5.0",
      "model_name": "ButtonModel",
      "state": {
       "description": "Make_Chart",
       "layout": "IPY_MODEL_2fc11dd82e2c42d5a3e8e645a07da091",
       "style": "IPY_MODEL_cb5958421bd9437e878cbcda32575b8b"
      }
     },
     "1a0c5b8c18774ce3adc1de1f91d0fa8d": {
      "model_module": "@jupyter-widgets/controls",
      "model_module_version": "1.5.0",
      "model_name": "HTMLModel",
      "state": {
       "layout": "IPY_MODEL_771da247d0684d1b9fbec8ea3246ed14",
       "style": "IPY_MODEL_57108fe0284a46298d803c3c6b666d94",
       "value": "<h1>Violin Plots </h1>"
      }
     },
     "1a1a1ebcdad54d199ad405bcc0ce22e4": {
      "model_module": "@jupyter-widgets/controls",
      "model_module_version": "1.5.0",
      "model_name": "ButtonStyleModel",
      "state": {}
     },
     "1a7427abfd454cad99311224331a1bcb": {
      "model_module": "@jupyter-widgets/controls",
      "model_module_version": "1.5.0",
      "model_name": "DescriptionStyleModel",
      "state": {
       "description_width": ""
      }
     },
     "1acd2944bea4434eb4d3d064ecbd09c5": {
      "model_module": "@jupyter-widgets/base",
      "model_module_version": "1.2.0",
      "model_name": "LayoutModel",
      "state": {}
     },
     "1b2f4d0aec88426ea7ccbabb77242a1f": {
      "model_module": "@jupyter-widgets/controls",
      "model_module_version": "1.5.0",
      "model_name": "HBoxModel",
      "state": {
       "children": [
        "IPY_MODEL_7aa99bb754fa46be83a12d04be72b270",
        "IPY_MODEL_46c25aef15234301b7375ec324988a80"
       ],
       "layout": "IPY_MODEL_e95063c301494808870a5b0c21d041d4"
      }
     },
     "1bfee92abc3c422282faf58cc0262d1b": {
      "model_module": "@jupyter-widgets/controls",
      "model_module_version": "1.5.0",
      "model_name": "DropdownModel",
      "state": {
       "_options_labels": [
        "duration",
        "credit_amount",
        "installment_commitment",
        "residence_since",
        "age",
        "existing_credits",
        "num_dependents"
       ],
       "description": "Values",
       "index": 0,
       "layout": "IPY_MODEL_59af0f3255824cc494525d06796800ca",
       "style": "IPY_MODEL_5a2e58cfc19641cb9ff849a8e5088286"
      }
     },
     "1c95c1d47cc3457b972ad01b53216c38": {
      "model_module": "@jupyter-widgets/base",
      "model_module_version": "1.2.0",
      "model_name": "LayoutModel",
      "state": {}
     },
     "1c9b2a82e62c4219859b5e69d97490ca": {
      "model_module": "@jupyter-widgets/controls",
      "model_module_version": "1.5.0",
      "model_name": "DescriptionStyleModel",
      "state": {
       "description_width": ""
      }
     },
     "1cca1f1bb83f495b873354fa83391c6e": {
      "model_module": "@jupyter-widgets/base",
      "model_module_version": "1.2.0",
      "model_name": "LayoutModel",
      "state": {}
     },
     "1d1c3ca99c2d4ed1a258ac7e5f73487e": {
      "model_module": "@jupyter-widgets/base",
      "model_module_version": "1.2.0",
      "model_name": "LayoutModel",
      "state": {}
     },
     "1d76f433dd404fc9a08d7f1b3e69de6c": {
      "model_module": "@jupyter-widgets/base",
      "model_module_version": "1.2.0",
      "model_name": "LayoutModel",
      "state": {}
     },
     "1dedc8e3957f4beb80e2c6fe1ed26a7a": {
      "model_module": "@jupyter-widgets/base",
      "model_module_version": "1.2.0",
      "model_name": "LayoutModel",
      "state": {}
     },
     "1e75fc2f15b8491ab3f0068ade88d9c9": {
      "model_module": "@jupyter-widgets/controls",
      "model_module_version": "1.5.0",
      "model_name": "ButtonStyleModel",
      "state": {}
     },
     "1eb7ff1d1fb04a508c4d767534b01945": {
      "model_module": "@jupyter-widgets/controls",
      "model_module_version": "1.5.0",
      "model_name": "DropdownModel",
      "state": {
       "_options_labels": [
        "checking_status",
        "credit_history",
        "purpose",
        "savings_status",
        "employment",
        "personal_status",
        "other_parties",
        "property_magnitude",
        "other_payment_plans",
        "housing",
        "job",
        "own_telephone",
        "foreign_worker",
        "class"
       ],
       "description": "Color",
       "index": 0,
       "layout": "IPY_MODEL_1c95c1d47cc3457b972ad01b53216c38",
       "style": "IPY_MODEL_eb7b31d7e56245459c723c97d6210422"
      }
     },
     "1fc674686aef4758b51161bb6cf053f5": {
      "model_module": "@jupyter-widgets/base",
      "model_module_version": "1.2.0",
      "model_name": "LayoutModel",
      "state": {}
     },
     "20364a4fc7c844c29e2fb38c5c55c661": {
      "model_module": "@jupyter-widgets/controls",
      "model_module_version": "1.5.0",
      "model_name": "DropdownModel",
      "state": {
       "_options_labels": [
        "credit_amount",
        "installment_commitment",
        "residence_since",
        "age",
        "existing_credits",
        "num_dependents"
       ],
       "description": "Y_Axis",
       "index": 0,
       "layout": "IPY_MODEL_59f4953ae73d47758eb532624cb1660e",
       "style": "IPY_MODEL_4ee5c6f3d63c491e83637e1e774bc37d"
      }
     },
     "20a07350ad3b4f31b1599680e5b16671": {
      "model_module": "@jupyter-widgets/controls",
      "model_module_version": "1.5.0",
      "model_name": "VBoxModel",
      "state": {
       "_dom_classes": [
        "widget-interact"
       ],
       "children": [
        "IPY_MODEL_6c15e016632a454fab71f5f68cb2abe5",
        "IPY_MODEL_214864a480424e989c8646a00c51bf42",
        "IPY_MODEL_b65c7fb679b74646b994a169913f2e87",
        "IPY_MODEL_f99f37fdc6174f5eb3e45221ec9be7a1",
        "IPY_MODEL_dd6ed368e33b4d5cb7cb6555b5c2d2df"
       ],
       "layout": "IPY_MODEL_52c0fc4206354fdd8fe5fca491d775bc"
      }
     },
     "214864a480424e989c8646a00c51bf42": {
      "model_module": "@jupyter-widgets/controls",
      "model_module_version": "1.5.0",
      "model_name": "DropdownModel",
      "state": {
       "_options_labels": [
        "credit_amount",
        "installment_commitment",
        "residence_since",
        "age",
        "existing_credits",
        "num_dependents"
       ],
       "description": "Y_Axis",
       "index": 0,
       "layout": "IPY_MODEL_00682d36f2a04b67848b3f4c6587b5b1",
       "style": "IPY_MODEL_d4176e7da8744571a3a7f82ef292a269"
      }
     },
     "217e3eec5d95490ba605686014a83abb": {
      "model_module": "@jupyter-widgets/controls",
      "model_module_version": "1.5.0",
      "model_name": "DropdownModel",
      "state": {
       "_options_labels": [
        "checking_status",
        "credit_history",
        "purpose",
        "savings_status",
        "employment",
        "personal_status",
        "other_parties",
        "property_magnitude",
        "other_payment_plans",
        "housing",
        "job",
        "own_telephone",
        "foreign_worker",
        "class"
       ],
       "description": "Color",
       "index": 0,
       "layout": "IPY_MODEL_35cba3172e2a42c997a79d7e585d592b",
       "style": "IPY_MODEL_f46af074fbee490591c2ec565523a918"
      }
     },
     "21915a7a25e54fe5b0a0d12fe0074017": {
      "model_module": "@jupyter-widgets/controls",
      "model_module_version": "1.5.0",
      "model_name": "DescriptionStyleModel",
      "state": {
       "description_width": ""
      }
     },
     "223726e30f274dc0884261148c10ce87": {
      "model_module": "@jupyter-widgets/controls",
      "model_module_version": "1.5.0",
      "model_name": "ButtonModel",
      "state": {
       "description": "Make_Chart",
       "layout": "IPY_MODEL_b7b884cf447a4347b5b93073c6433a6b",
       "style": "IPY_MODEL_b6e626cc6c55400da7af0608996442cf"
      }
     },
     "24617645ec84410dbdf0a6f8739f2029": {
      "model_module": "@jupyter-widgets/base",
      "model_module_version": "1.2.0",
      "model_name": "LayoutModel",
      "state": {}
     },
     "24740fb8cf524b128abea4eadc547af6": {
      "model_module": "@jupyter-widgets/base",
      "model_module_version": "1.2.0",
      "model_name": "LayoutModel",
      "state": {}
     },
     "2571573857c94fb4883e1fb22e0ed43b": {
      "model_module": "@jupyter-widgets/base",
      "model_module_version": "1.2.0",
      "model_name": "LayoutModel",
      "state": {}
     },
     "26068bfbc65c4294bc9650866734ab4b": {
      "model_module": "@jupyter-widgets/controls",
      "model_module_version": "1.5.0",
      "model_name": "DescriptionStyleModel",
      "state": {
       "description_width": ""
      }
     },
     "262667daf64548a881bbafb05fce7198": {
      "model_module": "@jupyter-widgets/base",
      "model_module_version": "1.2.0",
      "model_name": "LayoutModel",
      "state": {}
     },
     "262c971205d04d478d8bdc48eaae7b7a": {
      "model_module": "@jupyter-widgets/controls",
      "model_module_version": "1.5.0",
      "model_name": "ButtonStyleModel",
      "state": {}
     },
     "26a8f993beee4cca969ebc41b4f34214": {
      "model_module": "@jupyter-widgets/base",
      "model_module_version": "1.2.0",
      "model_name": "LayoutModel",
      "state": {}
     },
     "271ac37232cd48bd988edb539049be75": {
      "model_module": "@jupyter-widgets/controls",
      "model_module_version": "1.5.0",
      "model_name": "VBoxModel",
      "state": {
       "_dom_classes": [
        "widget-interact"
       ],
       "children": [
        "IPY_MODEL_7887cb4cad544aa5b1a25999a4773397",
        "IPY_MODEL_625348690d0e4e1fb8c50ef16a8446dc",
        "IPY_MODEL_3e606bd540d94f749ae13b5abaa06e60",
        "IPY_MODEL_e270ebdd2f8b4ff897b9612c3957c50f",
        "IPY_MODEL_47480d3f4ab3419eb532f317d984246b"
       ],
       "layout": "IPY_MODEL_c46bc253a0834c3a8c700f7afc2beda1"
      }
     },
     "2771a1383d394f589d74052764ee5431": {
      "model_module": "@jupyter-widgets/controls",
      "model_module_version": "1.5.0",
      "model_name": "DescriptionStyleModel",
      "state": {
       "description_width": ""
      }
     },
     "27da928072794653b0f437ff676b6300": {
      "model_module": "@jupyter-widgets/controls",
      "model_module_version": "1.5.0",
      "model_name": "VBoxModel",
      "state": {
       "_dom_classes": [
        "widget-interact"
       ],
       "children": [
        "IPY_MODEL_1696d079e76d49718ecce010567f7909",
        "IPY_MODEL_997225d45d1243dd932379369e835b5e",
        "IPY_MODEL_0ca9fb4a06194289b3b72fd29fe1afd5",
        "IPY_MODEL_d5630a79f48f44a0bc1ef7e631cd0f4b",
        "IPY_MODEL_bc535a13301a45ffb8ff6add58103dc8"
       ],
       "layout": "IPY_MODEL_a84da60bc84349e89df9b111aec6704f"
      }
     },
     "27fb3384cc094846a9f05e38ae6b4d19": {
      "model_module": "@jupyter-widgets/output",
      "model_module_version": "1.0.0",
      "model_name": "OutputModel",
      "state": {
       "layout": "IPY_MODEL_7601212829104c919a94f01a3a9db369"
      }
     },
     "28f1e5b88d7c430f93b304a496f45ab5": {
      "model_module": "@jupyter-widgets/controls",
      "model_module_version": "1.5.0",
      "model_name": "DescriptionStyleModel",
      "state": {
       "description_width": ""
      }
     },
     "2902877bc4b6446bb72a6449431a3f38": {
      "model_module": "@jupyter-widgets/base",
      "model_module_version": "1.2.0",
      "model_name": "LayoutModel",
      "state": {}
     },
     "2906d454bbe347b79c7db629b977bd17": {
      "model_module": "@jupyter-widgets/base",
      "model_module_version": "1.2.0",
      "model_name": "LayoutModel",
      "state": {}
     },
     "29e4d8c616f94a4ab4566540564ee975": {
      "model_module": "@jupyter-widgets/controls",
      "model_module_version": "1.5.0",
      "model_name": "DescriptionStyleModel",
      "state": {
       "description_width": ""
      }
     },
     "2a09bbd02072488f9e492410a4cb0354": {
      "model_module": "@jupyter-widgets/controls",
      "model_module_version": "1.5.0",
      "model_name": "ButtonStyleModel",
      "state": {}
     },
     "2ac6cfb878ee4322a9fbc90161ff379a": {
      "model_module": "@jupyter-widgets/controls",
      "model_module_version": "1.5.0",
      "model_name": "DropdownModel",
      "state": {
       "_options_labels": [
        "checking_status",
        "credit_history",
        "purpose",
        "savings_status",
        "employment",
        "personal_status",
        "other_parties",
        "property_magnitude",
        "other_payment_plans",
        "housing",
        "job",
        "own_telephone",
        "foreign_worker",
        "class"
       ],
       "description": "X_Axis",
       "index": 0,
       "layout": "IPY_MODEL_bae6f71385c2462da6324939b52eb1c8",
       "style": "IPY_MODEL_1a7427abfd454cad99311224331a1bcb"
      }
     },
     "2b1e03cf0a3c4d6d8075b79d6e776fd3": {
      "model_module": "@jupyter-widgets/base",
      "model_module_version": "1.2.0",
      "model_name": "LayoutModel",
      "state": {}
     },
     "2b7a53eb60f44137932a2e54c0bb8e13": {
      "model_module": "@jupyter-widgets/controls",
      "model_module_version": "1.5.0",
      "model_name": "DropdownModel",
      "state": {
       "_options_labels": [
        "checking_status",
        "duration",
        "credit_history",
        "purpose",
        "credit_amount",
        "savings_status",
        "employment",
        "installment_commitment",
        "personal_status",
        "other_parties",
        "residence_since",
        "property_magnitude",
        "age",
        "other_payment_plans",
        "housing",
        "existing_credits",
        "job",
        "num_dependents",
        "own_telephone",
        "foreign_worker",
        "class"
       ],
       "description": "X_Axis",
       "index": 0,
       "layout": "IPY_MODEL_c2e3071c25cd4a94be505e3857edf61f",
       "style": "IPY_MODEL_3766ad0b37be4bc699b7875cee377281"
      }
     },
     "2b81367e6b62427798c4b89b3a4b3142": {
      "model_module": "@jupyter-widgets/base",
      "model_module_version": "1.2.0",
      "model_name": "LayoutModel",
      "state": {}
     },
     "2cda0bd1e1804cd09c1c486105223179": {
      "model_module": "@jupyter-widgets/controls",
      "model_module_version": "1.5.0",
      "model_name": "VBoxModel",
      "state": {
       "_dom_classes": [
        "widget-interact"
       ],
       "children": [
        "IPY_MODEL_71eb3a635c714976b91c2b26a97ca2ff",
        "IPY_MODEL_3966a12b47a145c0b7ec6e5e6c23e14b",
        "IPY_MODEL_c094dee64e484f6abd6f1dfc23dbf6d7",
        "IPY_MODEL_d0fd68a6c0b348ab97596764b46d8102",
        "IPY_MODEL_3e175f41347448e9a9c5a80b7729fe4b"
       ],
       "layout": "IPY_MODEL_781a154db2984995b64f142e2c3291ab"
      }
     },
     "2d041061d66b4f809c0436871163d27d": {
      "model_module": "@jupyter-widgets/controls",
      "model_module_version": "1.5.0",
      "model_name": "DescriptionStyleModel",
      "state": {
       "description_width": ""
      }
     },
     "2db491e307874903b056303b23afb76e": {
      "model_module": "@jupyter-widgets/base",
      "model_module_version": "1.2.0",
      "model_name": "LayoutModel",
      "state": {}
     },
     "2dcbfeef4b6743e08bb225f6cd942cdc": {
      "model_module": "@jupyter-widgets/base",
      "model_module_version": "1.2.0",
      "model_name": "LayoutModel",
      "state": {}
     },
     "2df8eab9b43c46b6a40fea9768b0276c": {
      "model_module": "@jupyter-widgets/base",
      "model_module_version": "1.2.0",
      "model_name": "LayoutModel",
      "state": {}
     },
     "2f3596b031c94f56b90e6844b4f68df9": {
      "model_module": "@jupyter-widgets/base",
      "model_module_version": "1.2.0",
      "model_name": "LayoutModel",
      "state": {}
     },
     "2f35d963d3ea41d2ba6bec47ca27954a": {
      "model_module": "@jupyter-widgets/output",
      "model_module_version": "1.0.0",
      "model_name": "OutputModel",
      "state": {
       "layout": "IPY_MODEL_a8c09e2992d64c4f9960b6bd42b27b78"
      }
     },
     "2f8feeb22e994686ac1883fba7c68ad7": {
      "model_module": "@jupyter-widgets/base",
      "model_module_version": "1.2.0",
      "model_name": "LayoutModel",
      "state": {}
     },
     "2fc11dd82e2c42d5a3e8e645a07da091": {
      "model_module": "@jupyter-widgets/base",
      "model_module_version": "1.2.0",
      "model_name": "LayoutModel",
      "state": {}
     },
     "30945b7e490245beb443dfcee76c986a": {
      "model_module": "@jupyter-widgets/controls",
      "model_module_version": "1.5.0",
      "model_name": "DescriptionStyleModel",
      "state": {
       "description_width": ""
      }
     },
     "321a41725c004cbcb0248ac714c5aec3": {
      "model_module": "@jupyter-widgets/base",
      "model_module_version": "1.2.0",
      "model_name": "LayoutModel",
      "state": {}
     },
     "32371ea1429f45f5a35e70065f3c42ec": {
      "model_module": "@jupyter-widgets/controls",
      "model_module_version": "1.5.0",
      "model_name": "DescriptionStyleModel",
      "state": {
       "description_width": ""
      }
     },
     "3259457401a648fd942e9649d9a06786": {
      "model_module": "@jupyter-widgets/controls",
      "model_module_version": "1.5.0",
      "model_name": "DropdownModel",
      "state": {
       "_options_labels": [
        "duration",
        "credit_amount",
        "installment_commitment",
        "residence_since",
        "age",
        "existing_credits",
        "num_dependents"
       ],
       "description": "Values",
       "index": 0,
       "layout": "IPY_MODEL_f409c65d3a6b4afa98082d1cd0773d23",
       "style": "IPY_MODEL_cef4d370931d4aae9720ed462d1d4760"
      }
     },
     "34b41997bea5441e8d97e533103c1626": {
      "model_module": "@jupyter-widgets/base",
      "model_module_version": "1.2.0",
      "model_name": "LayoutModel",
      "state": {}
     },
     "34d9d263119544eb8e2ca40b0b69a0a1": {
      "model_module": "@jupyter-widgets/base",
      "model_module_version": "1.2.0",
      "model_name": "LayoutModel",
      "state": {}
     },
     "35206e45fa0241c59deee298aaa756e9": {
      "model_module": "@jupyter-widgets/controls",
      "model_module_version": "1.5.0",
      "model_name": "DescriptionStyleModel",
      "state": {
       "description_width": ""
      }
     },
     "354089829ae2472e83a48a7d5d68893f": {
      "model_module": "@jupyter-widgets/controls",
      "model_module_version": "1.5.0",
      "model_name": "HTMLModel",
      "state": {
       "layout": "IPY_MODEL_571f48546e154b82a67094e960d1bff5",
       "style": "IPY_MODEL_f24ee5be42f4455e9baafc5b1b458abd",
       "value": "<h1>Scatter Plots </h1>"
      }
     },
     "35cba3172e2a42c997a79d7e585d592b": {
      "model_module": "@jupyter-widgets/base",
      "model_module_version": "1.2.0",
      "model_name": "LayoutModel",
      "state": {}
     },
     "35d23696cd6b4db39174ce8cf127f7ba": {
      "model_module": "@jupyter-widgets/controls",
      "model_module_version": "1.5.0",
      "model_name": "VBoxModel",
      "state": {
       "_dom_classes": [
        "widget-interact"
       ],
       "children": [
        "IPY_MODEL_ef61172c743442dd808d5d5feb7d13be",
        "IPY_MODEL_b971bf7207c44d7fa3c16276fffe4c8d",
        "IPY_MODEL_b00baf0260a04d67b13ddb14708ffe9c",
        "IPY_MODEL_b9c10988a27249cd8f2b1486f058b74b",
        "IPY_MODEL_c022a04905764f13994089cfa4abc6cf"
       ],
       "layout": "IPY_MODEL_2906d454bbe347b79c7db629b977bd17"
      }
     },
     "362672d3d1bb4eefa2ba5c251b62d363": {
      "model_module": "@jupyter-widgets/controls",
      "model_module_version": "1.5.0",
      "model_name": "DropdownModel",
      "state": {
       "_options_labels": [
        "duration",
        "credit_amount",
        "installment_commitment",
        "residence_since",
        "age",
        "existing_credits",
        "num_dependents"
       ],
       "description": "Color",
       "index": 0,
       "layout": "IPY_MODEL_9988db09d145414c872936924a5f7870",
       "style": "IPY_MODEL_6ff950352227409ca87819cdd2f4ab0b"
      }
     },
     "37440277d87a4028851ac66c5b610bb5": {
      "model_module": "@jupyter-widgets/base",
      "model_module_version": "1.2.0",
      "model_name": "LayoutModel",
      "state": {}
     },
     "37526dffc76845dda6aa16d440ccc712": {
      "model_module": "@jupyter-widgets/base",
      "model_module_version": "1.2.0",
      "model_name": "LayoutModel",
      "state": {}
     },
     "3766ad0b37be4bc699b7875cee377281": {
      "model_module": "@jupyter-widgets/controls",
      "model_module_version": "1.5.0",
      "model_name": "DescriptionStyleModel",
      "state": {
       "description_width": ""
      }
     },
     "377e88ef1fd64450853982905b08db97": {
      "model_module": "@jupyter-widgets/controls",
      "model_module_version": "1.5.0",
      "model_name": "DropdownModel",
      "state": {
       "_options_labels": [
        "duration",
        "credit_amount",
        "installment_commitment",
        "residence_since",
        "age",
        "existing_credits",
        "num_dependents"
       ],
       "description": "X_Axis",
       "index": 0,
       "layout": "IPY_MODEL_1d1c3ca99c2d4ed1a258ac7e5f73487e",
       "style": "IPY_MODEL_444aa6c40e03499b8c4f113fe3aa7502"
      }
     },
     "37a0b13c57b44fed819a8ab85474a05e": {
      "model_module": "@jupyter-widgets/base",
      "model_module_version": "1.2.0",
      "model_name": "LayoutModel",
      "state": {}
     },
     "37c37a44c6244a2d8042ccde946add27": {
      "model_module": "@jupyter-widgets/output",
      "model_module_version": "1.0.0",
      "model_name": "OutputModel",
      "state": {
       "layout": "IPY_MODEL_61bfea8248c2472b8297e2718edd2471",
       "outputs": [
        {
         "data": {
          "application/vnd.jupyter.widget-view+json": {
           "model_id": "b54e7890d1664ad1af167b1750fdc4f4",
           "version_major": 2,
           "version_minor": 0
          },
          "text/plain": "HTML(value='<h1>Histogram </h1>')"
         },
         "metadata": {},
         "output_type": "display_data"
        },
        {
         "data": {
          "application/vnd.jupyter.widget-view+json": {
           "model_id": "e1d8295268a540f893a8a0cfd31bd252",
           "version_major": 2,
           "version_minor": 0
          },
          "text/plain": "HBox(children=(interactive(children=(Dropdown(description='X_Axis', options=('checking_status', 'duration', 'c…"
         },
         "metadata": {},
         "output_type": "display_data"
        },
        {
         "data": {
          "application/vnd.jupyter.widget-view+json": {
           "model_id": "49ea35d9963446619ccdcf7edeff03db",
           "version_major": 2,
           "version_minor": 0
          },
          "text/plain": "HBox(children=(interactive(children=(Dropdown(description='X_Axis', options=('checking_status', 'duration', 'c…"
         },
         "metadata": {},
         "output_type": "display_data"
        }
       ]
      }
     },
     "387258c228554b93b6630fb21a4e313f": {
      "model_module": "@jupyter-widgets/controls",
      "model_module_version": "1.5.0",
      "model_name": "DropdownModel",
      "state": {
       "_options_labels": [
        "duration",
        "credit_amount",
        "installment_commitment",
        "residence_since",
        "age",
        "existing_credits",
        "num_dependents"
       ],
       "description": "X_Axis",
       "index": 0,
       "layout": "IPY_MODEL_f670085779be453ca38ebc32081855ff",
       "style": "IPY_MODEL_555a9472611c4bd8873db67039f68d66"
      }
     },
     "38c2ba5257154dbb8c36c6abca569279": {
      "model_module": "@jupyter-widgets/base",
      "model_module_version": "1.2.0",
      "model_name": "LayoutModel",
      "state": {}
     },
     "39233fd5f908477ba9f7383199abff6e": {
      "model_module": "@jupyter-widgets/base",
      "model_module_version": "1.2.0",
      "model_name": "LayoutModel",
      "state": {}
     },
     "3966a12b47a145c0b7ec6e5e6c23e14b": {
      "model_module": "@jupyter-widgets/controls",
      "model_module_version": "1.5.0",
      "model_name": "DropdownModel",
      "state": {
       "_options_labels": [
        "duration",
        "credit_amount",
        "installment_commitment",
        "residence_since",
        "age",
        "existing_credits",
        "num_dependents"
       ],
       "description": "Y_Axis",
       "index": 0,
       "layout": "IPY_MODEL_fc775f877e184c46aaa7b506be07200b",
       "style": "IPY_MODEL_f88eb552bd2c41779315d591fae09fb7"
      }
     },
     "3a21b5f2fde9407daf6280fba699ded7": {
      "model_module": "@jupyter-widgets/controls",
      "model_module_version": "1.5.0",
      "model_name": "VBoxModel",
      "state": {
       "_dom_classes": [
        "widget-interact"
       ],
       "children": [
        "IPY_MODEL_6f8605c97d8549e6b7938faefcaa8227",
        "IPY_MODEL_c691e47810784a49846901f37d7676bd",
        "IPY_MODEL_3b26ecef535a475aa9c66fb44cc1b086",
        "IPY_MODEL_2f35d963d3ea41d2ba6bec47ca27954a"
       ],
       "layout": "IPY_MODEL_cafe268468104f93aa3339ec71b8aff3"
      }
     },
     "3a330504bb5d44d7b84ec58057baeb88": {
      "model_module": "@jupyter-widgets/controls",
      "model_module_version": "1.5.0",
      "model_name": "DropdownModel",
      "state": {
       "_options_labels": [
        "duration",
        "credit_amount",
        "installment_commitment",
        "residence_since",
        "age",
        "existing_credits",
        "num_dependents"
       ],
       "description": "Color",
       "index": 0,
       "layout": "IPY_MODEL_0ee59b9fa7564917b35aceece128c698",
       "style": "IPY_MODEL_3e147a3c68674a8dbe2e8d6cd023e01c"
      }
     },
     "3ab9bb4092a24449b3abfaa3878cec72": {
      "model_module": "@jupyter-widgets/controls",
      "model_module_version": "1.5.0",
      "model_name": "DropdownModel",
      "state": {
       "_options_labels": [
        "credit_amount",
        "installment_commitment",
        "residence_since",
        "age",
        "existing_credits",
        "num_dependents"
       ],
       "description": "Y_Axis",
       "index": 0,
       "layout": "IPY_MODEL_d45650bd22394d2cbc948cd83fc38860",
       "style": "IPY_MODEL_26068bfbc65c4294bc9650866734ab4b"
      }
     },
     "3ad3ae66faec4a3bab6450c8c00710f4": {
      "model_module": "@jupyter-widgets/controls",
      "model_module_version": "1.5.0",
      "model_name": "VBoxModel",
      "state": {
       "_dom_classes": [
        "widget-interact"
       ],
       "children": [
        "IPY_MODEL_a92a823db3dc4328bcb6ae7a0b6bd0fa",
        "IPY_MODEL_aa2620d40f7d404ead9b525d2e11b9f3",
        "IPY_MODEL_689ab8113e4845b792494b1de7a4508d",
        "IPY_MODEL_c04505cd10d442a395d32dc638e88536",
        "IPY_MODEL_050578abf6ad44a880fe15d138972e73"
       ],
       "layout": "IPY_MODEL_81aab198872a4d43bb77a64b87cdd6d7"
      }
     },
     "3aeb9139a5ea4ccf991fe1815447e727": {
      "model_module": "@jupyter-widgets/base",
      "model_module_version": "1.2.0",
      "model_name": "LayoutModel",
      "state": {}
     },
     "3b1c02dd476349da81f0019f150a75f3": {
      "model_module": "@jupyter-widgets/controls",
      "model_module_version": "1.5.0",
      "model_name": "HBoxModel",
      "state": {
       "children": [
        "IPY_MODEL_20a07350ad3b4f31b1599680e5b16671",
        "IPY_MODEL_e6fb2ca227ae48c3a3f3b1d4ca99428e"
       ],
       "layout": "IPY_MODEL_4de13eacc238438899f7aa55edc88c75"
      }
     },
     "3b21a011a8ad49fb82d30acc6f9a907e": {
      "model_module": "@jupyter-widgets/base",
      "model_module_version": "1.2.0",
      "model_name": "LayoutModel",
      "state": {}
     },
     "3b26ecef535a475aa9c66fb44cc1b086": {
      "model_module": "@jupyter-widgets/controls",
      "model_module_version": "1.5.0",
      "model_name": "ButtonModel",
      "state": {
       "description": "Make_Chart",
       "layout": "IPY_MODEL_b13b4a6175e74078ac21c54273dbd81d",
       "style": "IPY_MODEL_d0f17f28832b4ee9a1effa345278fe40"
      }
     },
     "3c06b2ef944f480d8406fdb37dd5354f": {
      "model_module": "@jupyter-widgets/base",
      "model_module_version": "1.2.0",
      "model_name": "LayoutModel",
      "state": {}
     },
     "3c98b7e91942401395b604bfe35b018d": {
      "model_module": "@jupyter-widgets/controls",
      "model_module_version": "1.5.0",
      "model_name": "ButtonModel",
      "state": {
       "description": "Make_Chart",
       "layout": "IPY_MODEL_e839b32c7def4ecc9e68faee56023b56",
       "style": "IPY_MODEL_262c971205d04d478d8bdc48eaae7b7a"
      }
     },
     "3e0840121922473fa9ab5fc444981834": {
      "model_module": "@jupyter-widgets/controls",
      "model_module_version": "1.5.0",
      "model_name": "DropdownModel",
      "state": {
       "_options_labels": [
        "credit_amount",
        "installment_commitment",
        "residence_since",
        "age",
        "existing_credits",
        "num_dependents"
       ],
       "description": "Y_Axis",
       "index": 0,
       "layout": "IPY_MODEL_1fc674686aef4758b51161bb6cf053f5",
       "style": "IPY_MODEL_62a0aaf9d088402aa9c703ba2e0dd339"
      }
     },
     "3e147a3c68674a8dbe2e8d6cd023e01c": {
      "model_module": "@jupyter-widgets/controls",
      "model_module_version": "1.5.0",
      "model_name": "DescriptionStyleModel",
      "state": {
       "description_width": ""
      }
     },
     "3e175f41347448e9a9c5a80b7729fe4b": {
      "model_module": "@jupyter-widgets/output",
      "model_module_version": "1.0.0",
      "model_name": "OutputModel",
      "state": {
       "layout": "IPY_MODEL_fae3431c666d49849d0d1d29e2a64d54"
      }
     },
     "3e606bd540d94f749ae13b5abaa06e60": {
      "model_module": "@jupyter-widgets/controls",
      "model_module_version": "1.5.0",
      "model_name": "DropdownModel",
      "state": {
       "_options_labels": [
        "checking_status",
        "credit_history",
        "purpose",
        "savings_status",
        "employment",
        "personal_status",
        "other_parties",
        "property_magnitude",
        "other_payment_plans",
        "housing",
        "job",
        "own_telephone",
        "foreign_worker",
        "class"
       ],
       "description": "Color",
       "index": 0,
       "layout": "IPY_MODEL_a1f92042650746db99c34f859602a2d2",
       "style": "IPY_MODEL_0d71b1915cc14b939f9657f95c47e236"
      }
     },
     "3e87b22c288f4e649c400efad199d20d": {
      "model_module": "@jupyter-widgets/base",
      "model_module_version": "1.2.0",
      "model_name": "LayoutModel",
      "state": {}
     },
     "407d2d7fb8d64a0da3610ca5cfb79658": {
      "model_module": "@jupyter-widgets/controls",
      "model_module_version": "1.5.0",
      "model_name": "HBoxModel",
      "state": {
       "children": [
        "IPY_MODEL_3ad3ae66faec4a3bab6450c8c00710f4",
        "IPY_MODEL_35d23696cd6b4db39174ce8cf127f7ba"
       ],
       "layout": "IPY_MODEL_674766b051c54c18ace65a2ecdcf9b90"
      }
     },
     "408ca8a6bf5d4facb5dbad9e48663404": {
      "model_module": "@jupyter-widgets/base",
      "model_module_version": "1.2.0",
      "model_name": "LayoutModel",
      "state": {}
     },
     "411070a029bf4819862c240b1e3fbea0": {
      "model_module": "@jupyter-widgets/controls",
      "model_module_version": "1.5.0",
      "model_name": "DescriptionStyleModel",
      "state": {
       "description_width": ""
      }
     },
     "4236dca357704b4286a0e37b65c9b4cc": {
      "model_module": "@jupyter-widgets/controls",
      "model_module_version": "1.5.0",
      "model_name": "DropdownModel",
      "state": {
       "_options_labels": [
        "duration",
        "credit_amount",
        "installment_commitment",
        "residence_since",
        "age",
        "existing_credits",
        "num_dependents"
       ],
       "description": "Values",
       "index": 0,
       "layout": "IPY_MODEL_38c2ba5257154dbb8c36c6abca569279",
       "style": "IPY_MODEL_d8b9a73d35e945a2a0e0739c4919b208"
      }
     },
     "42869f352582445397032266a56a5fa9": {
      "model_module": "@jupyter-widgets/controls",
      "model_module_version": "1.5.0",
      "model_name": "ButtonModel",
      "state": {
       "description": "Make_Chart",
       "layout": "IPY_MODEL_37440277d87a4028851ac66c5b610bb5",
       "style": "IPY_MODEL_4df1a5d04fde462792edc09e089fde9a"
      }
     },
     "439cb431787b4975998cebae629d21fe": {
      "model_module": "@jupyter-widgets/output",
      "model_module_version": "1.0.0",
      "model_name": "OutputModel",
      "state": {
       "layout": "IPY_MODEL_ddd6b94ddb444334aaecc709c93fab41",
       "outputs": [
        {
         "data": {
          "application/vnd.jupyter.widget-view+json": {
           "model_id": "354089829ae2472e83a48a7d5d68893f",
           "version_major": 2,
           "version_minor": 0
          },
          "text/plain": "HTML(value='<h1>Scatter Plots </h1>')"
         },
         "metadata": {},
         "output_type": "display_data"
        },
        {
         "data": {
          "application/vnd.jupyter.widget-view+json": {
           "model_id": "407d2d7fb8d64a0da3610ca5cfb79658",
           "version_major": 2,
           "version_minor": 0
          },
          "text/plain": "HBox(children=(interactive(children=(Dropdown(description='X_Axis', options=('duration', 'credit_amount', 'ins…"
         },
         "metadata": {},
         "output_type": "display_data"
        },
        {
         "data": {
          "application/vnd.jupyter.widget-view+json": {
           "model_id": "bee38fdd6964451e96244100e6deafef",
           "version_major": 2,
           "version_minor": 0
          },
          "text/plain": "HBox(children=(interactive(children=(Dropdown(description='X_Axis', options=('duration', 'credit_amount', 'ins…"
         },
         "metadata": {},
         "output_type": "display_data"
        }
       ]
      }
     },
     "444aa6c40e03499b8c4f113fe3aa7502": {
      "model_module": "@jupyter-widgets/controls",
      "model_module_version": "1.5.0",
      "model_name": "DescriptionStyleModel",
      "state": {
       "description_width": ""
      }
     },
     "44545e9c5caf45c6b076a2c39f6755cd": {
      "model_module": "@jupyter-widgets/controls",
      "model_module_version": "1.5.0",
      "model_name": "DescriptionStyleModel",
      "state": {
       "description_width": ""
      }
     },
     "454ac3b7c86a4fc782bb1a945bbbc451": {
      "model_module": "@jupyter-widgets/controls",
      "model_module_version": "1.5.0",
      "model_name": "HBoxModel",
      "state": {
       "children": [
        "IPY_MODEL_3a21b5f2fde9407daf6280fba699ded7",
        "IPY_MODEL_ad4b8e52c76443f5ae71654b5544162b"
       ],
       "layout": "IPY_MODEL_ac62ce99b57a464e8eec70bbeb0c4580"
      }
     },
     "4611391216974621bf1073bafde7cff2": {
      "model_module": "@jupyter-widgets/controls",
      "model_module_version": "1.5.0",
      "model_name": "ButtonStyleModel",
      "state": {}
     },
     "4673be021adc48b792113d381db5de57": {
      "model_module": "@jupyter-widgets/controls",
      "model_module_version": "1.5.0",
      "model_name": "VBoxModel",
      "state": {
       "_dom_classes": [
        "widget-interact"
       ],
       "children": [
        "IPY_MODEL_b96b99b516fc4091b2f3432ab5307748",
        "IPY_MODEL_3ab9bb4092a24449b3abfaa3878cec72",
        "IPY_MODEL_0260f84999da44039842b7082ba62f4f",
        "IPY_MODEL_e68be73d62f44e9ca34e151dd7a79e70",
        "IPY_MODEL_08d6b37d977b41618d5d84d77172f52e"
       ],
       "layout": "IPY_MODEL_997f80c845fd4563bbd70cd52df1ef02"
      }
     },
     "4685a5973b964812b6d71df5a4cd60bb": {
      "model_module": "@jupyter-widgets/controls",
      "model_module_version": "1.5.0",
      "model_name": "ButtonStyleModel",
      "state": {}
     },
     "46c25aef15234301b7375ec324988a80": {
      "model_module": "@jupyter-widgets/controls",
      "model_module_version": "1.5.0",
      "model_name": "VBoxModel",
      "state": {
       "_dom_classes": [
        "widget-interact"
       ],
       "children": [
        "IPY_MODEL_da528d859ef642c89c3816a68dce7a6f",
        "IPY_MODEL_9f58b142c19f467b9cc32df3db566671",
        "IPY_MODEL_217e3eec5d95490ba605686014a83abb",
        "IPY_MODEL_42869f352582445397032266a56a5fa9",
        "IPY_MODEL_f33f335d618a42acae3675493d5bac31"
       ],
       "layout": "IPY_MODEL_321a41725c004cbcb0248ac714c5aec3"
      }
     },
     "4727227763714227917d06803e6a5d0a": {
      "model_module": "@jupyter-widgets/controls",
      "model_module_version": "1.5.0",
      "model_name": "DropdownModel",
      "state": {
       "_options_labels": [
        "duration",
        "credit_amount",
        "installment_commitment",
        "residence_since",
        "age",
        "existing_credits",
        "num_dependents"
       ],
       "description": "Y_Axis",
       "index": 0,
       "layout": "IPY_MODEL_4807c338f53c4109a0920afe8382fca3",
       "style": "IPY_MODEL_9acfea5636df49b8bf9e1873d70c70b5"
      }
     },
     "47480d3f4ab3419eb532f317d984246b": {
      "model_module": "@jupyter-widgets/output",
      "model_module_version": "1.0.0",
      "model_name": "OutputModel",
      "state": {
       "layout": "IPY_MODEL_24740fb8cf524b128abea4eadc547af6"
      }
     },
     "4807c338f53c4109a0920afe8382fca3": {
      "model_module": "@jupyter-widgets/base",
      "model_module_version": "1.2.0",
      "model_name": "LayoutModel",
      "state": {}
     },
     "4837b64c92e5473e973e3eef75455dab": {
      "model_module": "@jupyter-widgets/controls",
      "model_module_version": "1.5.0",
      "model_name": "DescriptionStyleModel",
      "state": {
       "description_width": ""
      }
     },
     "48a33a0758904281a35506c676b1363b": {
      "model_module": "@jupyter-widgets/base",
      "model_module_version": "1.2.0",
      "model_name": "LayoutModel",
      "state": {}
     },
     "48f32fb19bb44c9cb4e46b9db6f10918": {
      "model_module": "@jupyter-widgets/base",
      "model_module_version": "1.2.0",
      "model_name": "LayoutModel",
      "state": {}
     },
     "498d9403385a426ea3fcf5dade059536": {
      "model_module": "@jupyter-widgets/base",
      "model_module_version": "1.2.0",
      "model_name": "LayoutModel",
      "state": {}
     },
     "4994393bb71e495c968c974376bf79c4": {
      "model_module": "@jupyter-widgets/controls",
      "model_module_version": "1.5.0",
      "model_name": "ButtonStyleModel",
      "state": {}
     },
     "49c25618735f417893a5d4b36bf273bd": {
      "model_module": "@jupyter-widgets/base",
      "model_module_version": "1.2.0",
      "model_name": "LayoutModel",
      "state": {}
     },
     "49ea35d9963446619ccdcf7edeff03db": {
      "model_module": "@jupyter-widgets/controls",
      "model_module_version": "1.5.0",
      "model_name": "HBoxModel",
      "state": {
       "children": [
        "IPY_MODEL_f299b2510a9a46bfb9ce9f142cf1dec8",
        "IPY_MODEL_578ebf7631c24263ad1a2e9bf4887ba6"
       ],
       "layout": "IPY_MODEL_0c907b0f95724da5a2f05e8b3ce5eab6"
      }
     },
     "4a1debb603f34c0080f55a9451457766": {
      "model_module": "@jupyter-widgets/controls",
      "model_module_version": "1.5.0",
      "model_name": "DescriptionStyleModel",
      "state": {
       "description_width": ""
      }
     },
     "4a45461ef8d84a21a291a483703fea73": {
      "model_module": "@jupyter-widgets/base",
      "model_module_version": "1.2.0",
      "model_name": "LayoutModel",
      "state": {}
     },
     "4b1cfb9f30d5459aa2929101e37c3d63": {
      "model_module": "@jupyter-widgets/controls",
      "model_module_version": "1.5.0",
      "model_name": "DropdownModel",
      "state": {
       "_options_labels": [
        "duration",
        "credit_amount",
        "installment_commitment",
        "residence_since",
        "age",
        "existing_credits",
        "num_dependents"
       ],
       "description": "X_Axis",
       "index": 0,
       "layout": "IPY_MODEL_02323d2fa0bc4b94aa8a8e6523f5786e",
       "style": "IPY_MODEL_2771a1383d394f589d74052764ee5431"
      }
     },
     "4c352570683941318679bebaf39ee554": {
      "model_module": "@jupyter-widgets/base",
      "model_module_version": "1.2.0",
      "model_name": "LayoutModel",
      "state": {}
     },
     "4c8bf3c9ac584361ae501c6709befd28": {
      "model_module": "@jupyter-widgets/controls",
      "model_module_version": "1.5.0",
      "model_name": "DescriptionStyleModel",
      "state": {
       "description_width": ""
      }
     },
     "4cd6f0c90bb8440baf8f150e9ea3aed3": {
      "model_module": "@jupyter-widgets/base",
      "model_module_version": "1.2.0",
      "model_name": "LayoutModel",
      "state": {}
     },
     "4de13eacc238438899f7aa55edc88c75": {
      "model_module": "@jupyter-widgets/base",
      "model_module_version": "1.2.0",
      "model_name": "LayoutModel",
      "state": {}
     },
     "4df1a5d04fde462792edc09e089fde9a": {
      "model_module": "@jupyter-widgets/controls",
      "model_module_version": "1.5.0",
      "model_name": "ButtonStyleModel",
      "state": {}
     },
     "4e11e38d8d2d4e85a3f6c709f848e9b0": {
      "model_module": "@jupyter-widgets/controls",
      "model_module_version": "1.5.0",
      "model_name": "DescriptionStyleModel",
      "state": {
       "description_width": ""
      }
     },
     "4edbbc2a7e7e4dc0be2e1c0ae603108c": {
      "model_module": "@jupyter-widgets/base",
      "model_module_version": "1.2.0",
      "model_name": "LayoutModel",
      "state": {}
     },
     "4ee5c6f3d63c491e83637e1e774bc37d": {
      "model_module": "@jupyter-widgets/controls",
      "model_module_version": "1.5.0",
      "model_name": "DescriptionStyleModel",
      "state": {
       "description_width": ""
      }
     },
     "4f0203b449d942a09a24258740750d4d": {
      "model_module": "@jupyter-widgets/controls",
      "model_module_version": "1.5.0",
      "model_name": "ButtonModel",
      "state": {
       "description": "Make_Chart",
       "layout": "IPY_MODEL_5c0a5a105c70468299bd07e0a5b7da86",
       "style": "IPY_MODEL_aef80b26f8834efbb6054c0ea3b0841c"
      }
     },
     "4f97c58d7add4799878247794cf9e727": {
      "model_module": "@jupyter-widgets/controls",
      "model_module_version": "1.5.0",
      "model_name": "DescriptionStyleModel",
      "state": {
       "description_width": ""
      }
     },
     "51a25d7c4b374bc9bc8a748c6b166a0b": {
      "model_module": "@jupyter-widgets/base",
      "model_module_version": "1.2.0",
      "model_name": "LayoutModel",
      "state": {}
     },
     "51c8ba35aa6144df922517e1bf9e0883": {
      "model_module": "@jupyter-widgets/base",
      "model_module_version": "1.2.0",
      "model_name": "LayoutModel",
      "state": {}
     },
     "52a1da5e7d744192948663de4eb04e36": {
      "model_module": "@jupyter-widgets/controls",
      "model_module_version": "1.5.0",
      "model_name": "DropdownModel",
      "state": {
       "_options_labels": [
        "checking_status",
        "duration",
        "credit_history",
        "purpose",
        "credit_amount",
        "savings_status",
        "employment",
        "installment_commitment",
        "personal_status",
        "other_parties",
        "residence_since",
        "property_magnitude",
        "age",
        "other_payment_plans",
        "housing",
        "existing_credits",
        "job",
        "num_dependents",
        "own_telephone",
        "foreign_worker",
        "class"
       ],
       "description": "X_Axis",
       "index": 0,
       "layout": "IPY_MODEL_600848b5d1264c36ab569ce20c790d74",
       "style": "IPY_MODEL_aea5d056eb1d412c968ead6e21517b52"
      }
     },
     "52c0fc4206354fdd8fe5fca491d775bc": {
      "model_module": "@jupyter-widgets/base",
      "model_module_version": "1.2.0",
      "model_name": "LayoutModel",
      "state": {}
     },
     "52e13196b83b4e22aec6c8863eca4c03": {
      "model_module": "@jupyter-widgets/controls",
      "model_module_version": "1.5.0",
      "model_name": "DescriptionStyleModel",
      "state": {
       "description_width": ""
      }
     },
     "52e6f8f206de48958ff59b4140e4a9fd": {
      "model_module": "@jupyter-widgets/controls",
      "model_module_version": "1.5.0",
      "model_name": "DropdownModel",
      "state": {
       "_options_labels": [
        "credit_amount",
        "installment_commitment",
        "residence_since",
        "age",
        "existing_credits",
        "num_dependents"
       ],
       "description": "Y_Axis",
       "index": 0,
       "layout": "IPY_MODEL_4cd6f0c90bb8440baf8f150e9ea3aed3",
       "style": "IPY_MODEL_82cbecc5d8a24bf983c1cc1c79c2270a"
      }
     },
     "5445a564ba294ff598de4fe4b85d903d": {
      "model_module": "@jupyter-widgets/output",
      "model_module_version": "1.0.0",
      "model_name": "OutputModel",
      "state": {
       "layout": "IPY_MODEL_4a45461ef8d84a21a291a483703fea73"
      }
     },
     "544eb69d5b8e4a6898110078f9799940": {
      "model_module": "@jupyter-widgets/controls",
      "model_module_version": "1.5.0",
      "model_name": "HTMLModel",
      "state": {
       "layout": "IPY_MODEL_b0b121eeded84b80b58b163119b37e74",
       "style": "IPY_MODEL_a99b9bb3a43148758cc918e77ac2e87b",
       "value": "<h1>Bar Plots </h1>"
      }
     },
     "54fccc7ca73848728d53981e9049e3a2": {
      "model_module": "@jupyter-widgets/base",
      "model_module_version": "1.2.0",
      "model_name": "LayoutModel",
      "state": {}
     },
     "555a9472611c4bd8873db67039f68d66": {
      "model_module": "@jupyter-widgets/controls",
      "model_module_version": "1.5.0",
      "model_name": "DescriptionStyleModel",
      "state": {
       "description_width": ""
      }
     },
     "5562d9984d0d4833b26e0192168e4cab": {
      "model_module": "@jupyter-widgets/controls",
      "model_module_version": "1.5.0",
      "model_name": "DescriptionStyleModel",
      "state": {
       "description_width": ""
      }
     },
     "564757ef0b4642998f6d15e699861691": {
      "model_module": "@jupyter-widgets/controls",
      "model_module_version": "1.5.0",
      "model_name": "ButtonStyleModel",
      "state": {}
     },
     "56cf22f2f91943b389c3893dccdd3c2a": {
      "model_module": "@jupyter-widgets/base",
      "model_module_version": "1.2.0",
      "model_name": "LayoutModel",
      "state": {}
     },
     "57108fe0284a46298d803c3c6b666d94": {
      "model_module": "@jupyter-widgets/controls",
      "model_module_version": "1.5.0",
      "model_name": "DescriptionStyleModel",
      "state": {
       "description_width": ""
      }
     },
     "571f48546e154b82a67094e960d1bff5": {
      "model_module": "@jupyter-widgets/base",
      "model_module_version": "1.2.0",
      "model_name": "LayoutModel",
      "state": {}
     },
     "575a0b6e6a964e128f259ba8d8d75301": {
      "model_module": "@jupyter-widgets/base",
      "model_module_version": "1.2.0",
      "model_name": "LayoutModel",
      "state": {}
     },
     "578ebf7631c24263ad1a2e9bf4887ba6": {
      "model_module": "@jupyter-widgets/controls",
      "model_module_version": "1.5.0",
      "model_name": "VBoxModel",
      "state": {
       "_dom_classes": [
        "widget-interact"
       ],
       "children": [
        "IPY_MODEL_2b7a53eb60f44137932a2e54c0bb8e13",
        "IPY_MODEL_5ae6943e54a342ea868d30fd5e462fe6",
        "IPY_MODEL_5445a564ba294ff598de4fe4b85d903d"
       ],
       "layout": "IPY_MODEL_d35b6232e90543e08223a43703a2fbbc"
      }
     },
     "57b975bc90404a2587cd1537bc40f428": {
      "model_module": "@jupyter-widgets/base",
      "model_module_version": "1.2.0",
      "model_name": "LayoutModel",
      "state": {}
     },
     "57c8d970a37047fb8f434290f40c1f5e": {
      "model_module": "@jupyter-widgets/base",
      "model_module_version": "1.2.0",
      "model_name": "LayoutModel",
      "state": {}
     },
     "57cd9e264f634004b3462864b3c6d7e7": {
      "model_module": "@jupyter-widgets/controls",
      "model_module_version": "1.5.0",
      "model_name": "HBoxModel",
      "state": {
       "children": [
        "IPY_MODEL_6f22270e46d54808bb18565715f1ff36",
        "IPY_MODEL_992adeef4c284c08a2c89dbb7a1bddf4"
       ],
       "layout": "IPY_MODEL_7a2a21d45b914ecda1739139f1239b13"
      }
     },
     "58707538f2e6483aab649e7d7bfed32f": {
      "model_module": "@jupyter-widgets/base",
      "model_module_version": "1.2.0",
      "model_name": "LayoutModel",
      "state": {}
     },
     "59385db3caa34ce7bb692e5a0dde751c": {
      "model_module": "@jupyter-widgets/base",
      "model_module_version": "1.2.0",
      "model_name": "LayoutModel",
      "state": {}
     },
     "59af0f3255824cc494525d06796800ca": {
      "model_module": "@jupyter-widgets/base",
      "model_module_version": "1.2.0",
      "model_name": "LayoutModel",
      "state": {}
     },
     "59beb7236aca4637b667cc28b80d6562": {
      "model_module": "@jupyter-widgets/controls",
      "model_module_version": "1.5.0",
      "model_name": "ButtonStyleModel",
      "state": {}
     },
     "59f4953ae73d47758eb532624cb1660e": {
      "model_module": "@jupyter-widgets/base",
      "model_module_version": "1.2.0",
      "model_name": "LayoutModel",
      "state": {}
     },
     "5a2e58cfc19641cb9ff849a8e5088286": {
      "model_module": "@jupyter-widgets/controls",
      "model_module_version": "1.5.0",
      "model_name": "DescriptionStyleModel",
      "state": {
       "description_width": ""
      }
     },
     "5ad38b3f0b5547488e7b78eec5c072e4": {
      "model_module": "@jupyter-widgets/controls",
      "model_module_version": "1.5.0",
      "model_name": "HBoxModel",
      "state": {
       "children": [
        "IPY_MODEL_70ad27d01af249ddbf0166ecd66ef450",
        "IPY_MODEL_bb79eb5a6732424386dfc89839c2e19c"
       ],
       "layout": "IPY_MODEL_b29d460acced419f9fd100248e34468c"
      }
     },
     "5ae6943e54a342ea868d30fd5e462fe6": {
      "model_module": "@jupyter-widgets/controls",
      "model_module_version": "1.5.0",
      "model_name": "ButtonModel",
      "state": {
       "description": "Make_Chart",
       "layout": "IPY_MODEL_8206edae9e784ce48d9d05bf334e8318",
       "style": "IPY_MODEL_76d48b0088df4b65ba7faf831ff56240"
      }
     },
     "5afe33a1261c4fb3813b2342a3d0b541": {
      "model_module": "@jupyter-widgets/controls",
      "model_module_version": "1.5.0",
      "model_name": "DropdownModel",
      "state": {
       "_options_labels": [
        "credit_amount",
        "installment_commitment",
        "residence_since",
        "age",
        "existing_credits",
        "num_dependents"
       ],
       "description": "Y_Axis",
       "index": 0,
       "layout": "IPY_MODEL_68ac73cb1799466985af0c8ed293db32",
       "style": "IPY_MODEL_edc7ae74f4824060bcd4475b52e8db75"
      }
     },
     "5c0a5a105c70468299bd07e0a5b7da86": {
      "model_module": "@jupyter-widgets/base",
      "model_module_version": "1.2.0",
      "model_name": "LayoutModel",
      "state": {}
     },
     "5e14636eb2e14cfa905938607c6f11ea": {
      "model_module": "@jupyter-widgets/controls",
      "model_module_version": "1.5.0",
      "model_name": "VBoxModel",
      "state": {
       "_dom_classes": [
        "widget-interact"
       ],
       "children": [
        "IPY_MODEL_a6821e5b7fde42c68817ef351baac6f4",
        "IPY_MODEL_a194655fa0854ca18360ff6b0fdb0c01",
        "IPY_MODEL_160da091d4384508a309e2172ea0690f"
       ],
       "layout": "IPY_MODEL_ff7b1e3da28948efa1584529a51f63d7"
      }
     },
     "5e21197c158445519d6a9d8625bebd45": {
      "model_module": "@jupyter-widgets/controls",
      "model_module_version": "1.5.0",
      "model_name": "ButtonModel",
      "state": {
       "description": "Make_Chart",
       "layout": "IPY_MODEL_d1e5be85988e4e959f67bdd37b67de54",
       "style": "IPY_MODEL_59beb7236aca4637b667cc28b80d6562"
      }
     },
     "5f77e7ebc94b4e0d9b42a337a1881548": {
      "model_module": "@jupyter-widgets/output",
      "model_module_version": "1.0.0",
      "model_name": "OutputModel",
      "state": {
       "layout": "IPY_MODEL_04d570713c2447ce80b841b7fea8b425"
      }
     },
     "600848b5d1264c36ab569ce20c790d74": {
      "model_module": "@jupyter-widgets/base",
      "model_module_version": "1.2.0",
      "model_name": "LayoutModel",
      "state": {}
     },
     "6082d2a6d2274e08a77d40b058c667aa": {
      "model_module": "@jupyter-widgets/base",
      "model_module_version": "1.2.0",
      "model_name": "LayoutModel",
      "state": {}
     },
     "6158a0c0a3b74daba7da0e0585337dfa": {
      "model_module": "@jupyter-widgets/controls",
      "model_module_version": "1.5.0",
      "model_name": "ButtonStyleModel",
      "state": {}
     },
     "61bfea8248c2472b8297e2718edd2471": {
      "model_module": "@jupyter-widgets/base",
      "model_module_version": "1.2.0",
      "model_name": "LayoutModel",
      "state": {}
     },
     "62243994f6864435a1db2200bd8e6991": {
      "model_module": "@jupyter-widgets/base",
      "model_module_version": "1.2.0",
      "model_name": "LayoutModel",
      "state": {}
     },
     "625348690d0e4e1fb8c50ef16a8446dc": {
      "model_module": "@jupyter-widgets/controls",
      "model_module_version": "1.5.0",
      "model_name": "DropdownModel",
      "state": {
       "_options_labels": [
        "duration",
        "credit_amount",
        "installment_commitment",
        "residence_since",
        "age",
        "existing_credits",
        "num_dependents"
       ],
       "description": "Y_Axis",
       "index": 0,
       "layout": "IPY_MODEL_120cb1e35d5a4b4e9c758bece65006c1",
       "style": "IPY_MODEL_11273ce2516d429baaa262034a30829e"
      }
     },
     "62a0aaf9d088402aa9c703ba2e0dd339": {
      "model_module": "@jupyter-widgets/controls",
      "model_module_version": "1.5.0",
      "model_name": "DescriptionStyleModel",
      "state": {
       "description_width": ""
      }
     },
     "62dc032bb12a4d11bda907b5370beb2a": {
      "model_module": "@jupyter-widgets/output",
      "model_module_version": "1.0.0",
      "model_name": "OutputModel",
      "state": {
       "layout": "IPY_MODEL_48a33a0758904281a35506c676b1363b"
      }
     },
     "636831e052b14f6daa5c81982c787037": {
      "model_module": "@jupyter-widgets/controls",
      "model_module_version": "1.5.0",
      "model_name": "DescriptionStyleModel",
      "state": {
       "description_width": ""
      }
     },
     "6514cdf0a6764c8eae48d559835f22f0": {
      "model_module": "@jupyter-widgets/output",
      "model_module_version": "1.0.0",
      "model_name": "OutputModel",
      "state": {
       "layout": "IPY_MODEL_bff7629d8f044d7cb2459b2444b0301a",
       "outputs": [
        {
         "data": {
          "application/vnd.jupyter.widget-view+json": {
           "model_id": "1a0c5b8c18774ce3adc1de1f91d0fa8d",
           "version_major": 2,
           "version_minor": 0
          },
          "text/plain": "HTML(value='<h1>Violin Plots </h1>')"
         },
         "metadata": {},
         "output_type": "display_data"
        },
        {
         "data": {
          "application/vnd.jupyter.widget-view+json": {
           "model_id": "917967eeefbe4cef86322f1b158c26c5",
           "version_major": 2,
           "version_minor": 0
          },
          "text/plain": "HBox(children=(interactive(children=(Dropdown(description='X_Axis', options=('duration', 'credit_amount', 'ins…"
         },
         "metadata": {},
         "output_type": "display_data"
        },
        {
         "data": {
          "application/vnd.jupyter.widget-view+json": {
           "model_id": "3b1c02dd476349da81f0019f150a75f3",
           "version_major": 2,
           "version_minor": 0
          },
          "text/plain": "HBox(children=(interactive(children=(Dropdown(description='X_Axis', options=('duration', 'credit_amount', 'ins…"
         },
         "metadata": {},
         "output_type": "display_data"
        }
       ]
      }
     },
     "66e7f4a822174f6a9d991a80d6a7307c": {
      "model_module": "@jupyter-widgets/base",
      "model_module_version": "1.2.0",
      "model_name": "LayoutModel",
      "state": {}
     },
     "674766b051c54c18ace65a2ecdcf9b90": {
      "model_module": "@jupyter-widgets/base",
      "model_module_version": "1.2.0",
      "model_name": "LayoutModel",
      "state": {}
     },
     "689ab8113e4845b792494b1de7a4508d": {
      "model_module": "@jupyter-widgets/controls",
      "model_module_version": "1.5.0",
      "model_name": "DropdownModel",
      "state": {
       "_options_labels": [
        "duration",
        "credit_amount",
        "installment_commitment",
        "residence_since",
        "age",
        "existing_credits",
        "num_dependents"
       ],
       "description": "Color",
       "index": 0,
       "layout": "IPY_MODEL_575a0b6e6a964e128f259ba8d8d75301",
       "style": "IPY_MODEL_411070a029bf4819862c240b1e3fbea0"
      }
     },
     "68ac73cb1799466985af0c8ed293db32": {
      "model_module": "@jupyter-widgets/base",
      "model_module_version": "1.2.0",
      "model_name": "LayoutModel",
      "state": {}
     },
     "68c2524b713d4371bc71cbaee0a51787": {
      "model_module": "@jupyter-widgets/controls",
      "model_module_version": "1.5.0",
      "model_name": "VBoxModel",
      "state": {
       "_dom_classes": [
        "widget-interact"
       ],
       "children": [
        "IPY_MODEL_a28b8de2f60b4d68851270ea6c538452",
        "IPY_MODEL_3259457401a648fd942e9649d9a06786",
        "IPY_MODEL_cfd60c4567044dd787b80a64d112f6d1",
        "IPY_MODEL_154c6e97ba584981b666fb22a6539d57"
       ],
       "layout": "IPY_MODEL_9c69dc1e17fd43a5aadeac878427ec91"
      }
     },
     "68f0b1ef571443df974939e2cf55bd76": {
      "model_module": "@jupyter-widgets/controls",
      "model_module_version": "1.5.0",
      "model_name": "VBoxModel",
      "state": {
       "_dom_classes": [
        "widget-interact"
       ],
       "children": [
        "IPY_MODEL_387258c228554b93b6630fb21a4e313f",
        "IPY_MODEL_5afe33a1261c4fb3813b2342a3d0b541",
        "IPY_MODEL_117e0925825a46bebd48ca5a6b1b69c4",
        "IPY_MODEL_4f0203b449d942a09a24258740750d4d",
        "IPY_MODEL_0f39e19785cf49b0b3bd32299caf8a96"
       ],
       "layout": "IPY_MODEL_0f11c3203cfd4b69b7079f113d81ad5b"
      }
     },
     "6c15e016632a454fab71f5f68cb2abe5": {
      "model_module": "@jupyter-widgets/controls",
      "model_module_version": "1.5.0",
      "model_name": "DropdownModel",
      "state": {
       "_options_labels": [
        "duration",
        "credit_amount",
        "installment_commitment",
        "residence_since",
        "age",
        "existing_credits",
        "num_dependents"
       ],
       "description": "X_Axis",
       "index": 0,
       "layout": "IPY_MODEL_8d425cba3da44f1b8a11399aa68c8183",
       "style": "IPY_MODEL_75528eb4f3b5415a895f6e43896914f2"
      }
     },
     "6d0e4b44d4c643d99745ef71b6751152": {
      "model_module": "@jupyter-widgets/controls",
      "model_module_version": "1.5.0",
      "model_name": "DescriptionStyleModel",
      "state": {
       "description_width": ""
      }
     },
     "6e3c56e94d174a4c813bc7729176be61": {
      "model_module": "@jupyter-widgets/controls",
      "model_module_version": "1.5.0",
      "model_name": "DescriptionStyleModel",
      "state": {
       "description_width": ""
      }
     },
     "6ea90c068c5b403e98ede88d40ce80fe": {
      "model_module": "@jupyter-widgets/controls",
      "model_module_version": "1.5.0",
      "model_name": "ButtonModel",
      "state": {
       "description": "Make_Chart",
       "layout": "IPY_MODEL_8f300dc97893477a930265daffa80d25",
       "style": "IPY_MODEL_564757ef0b4642998f6d15e699861691"
      }
     },
     "6f22270e46d54808bb18565715f1ff36": {
      "model_module": "@jupyter-widgets/controls",
      "model_module_version": "1.5.0",
      "model_name": "VBoxModel",
      "state": {
       "_dom_classes": [
        "widget-interact"
       ],
       "children": [
        "IPY_MODEL_4b1cfb9f30d5459aa2929101e37c3d63",
        "IPY_MODEL_20364a4fc7c844c29e2fb38c5c55c661",
        "IPY_MODEL_a2654ba129544df283ef2384fb8503c1",
        "IPY_MODEL_0e0e2a42747c44a8800ea38c8a18260e",
        "IPY_MODEL_e6a6dda13de14ec6b85b3fdf0626129b"
       ],
       "layout": "IPY_MODEL_72f0e306a9c34bb39916cf7d06c5cbf7"
      }
     },
     "6f8605c97d8549e6b7938faefcaa8227": {
      "model_module": "@jupyter-widgets/controls",
      "model_module_version": "1.5.0",
      "model_name": "DropdownModel",
      "state": {
       "_options_labels": [
        "checking_status",
        "credit_history",
        "purpose",
        "savings_status",
        "employment",
        "personal_status",
        "other_parties",
        "property_magnitude",
        "other_payment_plans",
        "housing",
        "job",
        "own_telephone",
        "foreign_worker",
        "class"
       ],
       "description": "Labels",
       "index": 0,
       "layout": "IPY_MODEL_ba77f8d5af5f488c8c58bfc971a6925f",
       "style": "IPY_MODEL_2d041061d66b4f809c0436871163d27d"
      }
     },
     "6f9f5f39031345f18f857ddded804a23": {
      "model_module": "@jupyter-widgets/controls",
      "model_module_version": "1.5.0",
      "model_name": "ButtonModel",
      "state": {
       "description": "Make_Chart",
       "layout": "IPY_MODEL_cccb817cb8344299a6a1e2db29bbbaa0",
       "style": "IPY_MODEL_c7fd7ea8b8ea470cb5fca69e2fdc49f6"
      }
     },
     "6ff950352227409ca87819cdd2f4ab0b": {
      "model_module": "@jupyter-widgets/controls",
      "model_module_version": "1.5.0",
      "model_name": "DescriptionStyleModel",
      "state": {
       "description_width": ""
      }
     },
     "70ad27d01af249ddbf0166ecd66ef450": {
      "model_module": "@jupyter-widgets/controls",
      "model_module_version": "1.5.0",
      "model_name": "VBoxModel",
      "state": {
       "_dom_classes": [
        "widget-interact"
       ],
       "children": [
        "IPY_MODEL_83df0927078b4e628d85073d530fe4d6",
        "IPY_MODEL_07c72d8d856343b7b0c7f18240d7cb32",
        "IPY_MODEL_9c43c0e53190483eb8df2250da322091",
        "IPY_MODEL_a05197445f614488b97e03b4a308eb43",
        "IPY_MODEL_d4d8fd0772684a6eb73fe4740353cbca"
       ],
       "layout": "IPY_MODEL_9831291bb9c947ca846d6cf5e58e5d03"
      }
     },
     "7122d774188f4e0eb54b3ce5954d8098": {
      "model_module": "@jupyter-widgets/controls",
      "model_module_version": "1.5.0",
      "model_name": "DropdownModel",
      "state": {
       "_options_labels": [
        "checking_status",
        "credit_history",
        "purpose",
        "savings_status",
        "employment",
        "personal_status",
        "other_parties",
        "property_magnitude",
        "other_payment_plans",
        "housing",
        "job",
        "own_telephone",
        "foreign_worker",
        "class"
       ],
       "description": "Color",
       "index": 0,
       "layout": "IPY_MODEL_4edbbc2a7e7e4dc0be2e1c0ae603108c",
       "style": "IPY_MODEL_fa4fd2a79e6c4674a144afb4307b7171"
      }
     },
     "716bc78a62464188904b9532b0fa24d8": {
      "model_module": "@jupyter-widgets/base",
      "model_module_version": "1.2.0",
      "model_name": "LayoutModel",
      "state": {}
     },
     "71d15de007a74a669b1a4c67963a3814": {
      "model_module": "@jupyter-widgets/base",
      "model_module_version": "1.2.0",
      "model_name": "LayoutModel",
      "state": {}
     },
     "71eb3a635c714976b91c2b26a97ca2ff": {
      "model_module": "@jupyter-widgets/controls",
      "model_module_version": "1.5.0",
      "model_name": "DropdownModel",
      "state": {
       "_options_labels": [
        "checking_status",
        "credit_history",
        "purpose",
        "savings_status",
        "employment",
        "personal_status",
        "other_parties",
        "property_magnitude",
        "other_payment_plans",
        "housing",
        "job",
        "own_telephone",
        "foreign_worker",
        "class"
       ],
       "description": "X_Axis",
       "index": 0,
       "layout": "IPY_MODEL_758deecd6b1f428b88a777a47676fc5b",
       "style": "IPY_MODEL_eb054a2240f244139309a7ba34a211cf"
      }
     },
     "720c1184f8184a65b7947a64a33c459e": {
      "model_module": "@jupyter-widgets/base",
      "model_module_version": "1.2.0",
      "model_name": "LayoutModel",
      "state": {}
     },
     "72f0e306a9c34bb39916cf7d06c5cbf7": {
      "model_module": "@jupyter-widgets/base",
      "model_module_version": "1.2.0",
      "model_name": "LayoutModel",
      "state": {}
     },
     "73117d27b2614445a6823cd9deb1d6d0": {
      "model_module": "@jupyter-widgets/controls",
      "model_module_version": "1.5.0",
      "model_name": "DescriptionStyleModel",
      "state": {
       "description_width": ""
      }
     },
     "731a9611c9a74afbbff270ee4cf41a4c": {
      "model_module": "@jupyter-widgets/controls",
      "model_module_version": "1.5.0",
      "model_name": "DropdownModel",
      "state": {
       "_options_labels": [
        "checking_status",
        "credit_history",
        "purpose",
        "savings_status",
        "employment",
        "personal_status",
        "other_parties",
        "property_magnitude",
        "other_payment_plans",
        "housing",
        "job",
        "own_telephone",
        "foreign_worker",
        "class"
       ],
       "description": "Color",
       "index": 0,
       "layout": "IPY_MODEL_49c25618735f417893a5d4b36bf273bd",
       "style": "IPY_MODEL_be3f83a929fc4ab0a15b0a01d7be6ac4"
      }
     },
     "73c978ef83c145db8fdcea9e4bcd5b88": {
      "model_module": "@jupyter-widgets/controls",
      "model_module_version": "1.5.0",
      "model_name": "DropdownModel",
      "state": {
       "_options_labels": [
        "credit_amount",
        "installment_commitment",
        "residence_since",
        "age",
        "existing_credits",
        "num_dependents"
       ],
       "description": "Y_Axis",
       "index": 0,
       "layout": "IPY_MODEL_c66063c642f840edaceb91a9023f6665",
       "style": "IPY_MODEL_c33c0c7ac6d446349b024b39a7c37221"
      }
     },
     "73e423dd732a4938a7645f402f0bbf76": {
      "model_module": "@jupyter-widgets/controls",
      "model_module_version": "1.5.0",
      "model_name": "ButtonModel",
      "state": {
       "description": "Make_Chart",
       "layout": "IPY_MODEL_1dedc8e3957f4beb80e2c6fe1ed26a7a",
       "style": "IPY_MODEL_a694f3a6bca744179097edb797004b67"
      }
     },
     "74f2c23bf37549ccaa42ed8891e9f610": {
      "model_module": "@jupyter-widgets/controls",
      "model_module_version": "1.5.0",
      "model_name": "HBoxModel",
      "state": {
       "children": [
        "IPY_MODEL_d8420b4181824e2b8c28ec0bea3e3a21",
        "IPY_MODEL_68c2524b713d4371bc71cbaee0a51787"
       ],
       "layout": "IPY_MODEL_da13493f57954bee97822c16ef76aa76"
      }
     },
     "7523904d20f94b93ae29c1252ed6b373": {
      "model_module": "@jupyter-widgets/controls",
      "model_module_version": "1.5.0",
      "model_name": "DescriptionStyleModel",
      "state": {
       "description_width": ""
      }
     },
     "75528eb4f3b5415a895f6e43896914f2": {
      "model_module": "@jupyter-widgets/controls",
      "model_module_version": "1.5.0",
      "model_name": "DescriptionStyleModel",
      "state": {
       "description_width": ""
      }
     },
     "758deecd6b1f428b88a777a47676fc5b": {
      "model_module": "@jupyter-widgets/base",
      "model_module_version": "1.2.0",
      "model_name": "LayoutModel",
      "state": {}
     },
     "75cec13f5a8a434da646ece11436ef3b": {
      "model_module": "@jupyter-widgets/controls",
      "model_module_version": "1.5.0",
      "model_name": "DropdownModel",
      "state": {
       "_options_labels": [
        "credit_amount",
        "installment_commitment",
        "residence_since",
        "age",
        "existing_credits",
        "num_dependents"
       ],
       "description": "Y_Axis",
       "index": 0,
       "layout": "IPY_MODEL_d53e3f92f5d04e3e9371fd69a5ba43dc",
       "style": "IPY_MODEL_9900569b5210483592bd792e531692eb"
      }
     },
     "7601212829104c919a94f01a3a9db369": {
      "model_module": "@jupyter-widgets/base",
      "model_module_version": "1.2.0",
      "model_name": "LayoutModel",
      "state": {}
     },
     "7679d8c983cc42d08fd454266af13417": {
      "model_module": "@jupyter-widgets/controls",
      "model_module_version": "1.5.0",
      "model_name": "DropdownModel",
      "state": {
       "_options_labels": [
        "duration",
        "credit_amount",
        "installment_commitment",
        "residence_since",
        "age",
        "existing_credits",
        "num_dependents"
       ],
       "description": "X_Axis",
       "index": 0,
       "layout": "IPY_MODEL_57b975bc90404a2587cd1537bc40f428",
       "style": "IPY_MODEL_938b6f327a9242efb37b8399cd19a9ea"
      }
     },
     "769ee383f5a648149370d77ea7544062": {
      "model_module": "@jupyter-widgets/base",
      "model_module_version": "1.2.0",
      "model_name": "LayoutModel",
      "state": {}
     },
     "76d48b0088df4b65ba7faf831ff56240": {
      "model_module": "@jupyter-widgets/controls",
      "model_module_version": "1.5.0",
      "model_name": "ButtonStyleModel",
      "state": {}
     },
     "771da247d0684d1b9fbec8ea3246ed14": {
      "model_module": "@jupyter-widgets/base",
      "model_module_version": "1.2.0",
      "model_name": "LayoutModel",
      "state": {}
     },
     "781a154db2984995b64f142e2c3291ab": {
      "model_module": "@jupyter-widgets/base",
      "model_module_version": "1.2.0",
      "model_name": "LayoutModel",
      "state": {}
     },
     "787b9a4f466f4abaa9086f8314370ab2": {
      "model_module": "@jupyter-widgets/controls",
      "model_module_version": "1.5.0",
      "model_name": "ButtonStyleModel",
      "state": {}
     },
     "7887cb4cad544aa5b1a25999a4773397": {
      "model_module": "@jupyter-widgets/controls",
      "model_module_version": "1.5.0",
      "model_name": "DropdownModel",
      "state": {
       "_options_labels": [
        "checking_status",
        "credit_history",
        "purpose",
        "savings_status",
        "employment",
        "personal_status",
        "other_parties",
        "property_magnitude",
        "other_payment_plans",
        "housing",
        "job",
        "own_telephone",
        "foreign_worker",
        "class"
       ],
       "description": "X_Axis",
       "index": 0,
       "layout": "IPY_MODEL_56cf22f2f91943b389c3893dccdd3c2a",
       "style": "IPY_MODEL_a024ea190c284103b617fa3416f40f1c"
      }
     },
     "789516bfb14c437c93e3efdf644d8e84": {
      "model_module": "@jupyter-widgets/base",
      "model_module_version": "1.2.0",
      "model_name": "LayoutModel",
      "state": {}
     },
     "79c21839978d4bc8a736db52103db09e": {
      "model_module": "@jupyter-widgets/base",
      "model_module_version": "1.2.0",
      "model_name": "LayoutModel",
      "state": {}
     },
     "7a2a21d45b914ecda1739139f1239b13": {
      "model_module": "@jupyter-widgets/base",
      "model_module_version": "1.2.0",
      "model_name": "LayoutModel",
      "state": {}
     },
     "7a5e53b4ad844eb286d9f4c55576d2a2": {
      "model_module": "@jupyter-widgets/base",
      "model_module_version": "1.2.0",
      "model_name": "LayoutModel",
      "state": {}
     },
     "7a655fafcfd34e60b12d825d51bc22ad": {
      "model_module": "@jupyter-widgets/base",
      "model_module_version": "1.2.0",
      "model_name": "LayoutModel",
      "state": {}
     },
     "7a6d5dec51cc4411ace9e94073089a81": {
      "model_module": "@jupyter-widgets/output",
      "model_module_version": "1.0.0",
      "model_name": "OutputModel",
      "state": {
       "layout": "IPY_MODEL_6082d2a6d2274e08a77d40b058c667aa",
       "outputs": [
        {
         "data": {
          "application/vnd.jupyter.widget-view+json": {
           "model_id": "d6b6cb8bea0d4a9cbcd0e567127c2b48",
           "version_major": 2,
           "version_minor": 0
          },
          "text/plain": "HTML(value='<h1>Pie Charts </h1>')"
         },
         "metadata": {},
         "output_type": "display_data"
        },
        {
         "data": {
          "application/vnd.jupyter.widget-view+json": {
           "model_id": "74f2c23bf37549ccaa42ed8891e9f610",
           "version_major": 2,
           "version_minor": 0
          },
          "text/plain": "HBox(children=(interactive(children=(Dropdown(description='Labels', options=('checking_status', 'credit_histor…"
         },
         "metadata": {},
         "output_type": "display_data"
        },
        {
         "data": {
          "application/vnd.jupyter.widget-view+json": {
           "model_id": "454ac3b7c86a4fc782bb1a945bbbc451",
           "version_major": 2,
           "version_minor": 0
          },
          "text/plain": "HBox(children=(interactive(children=(Dropdown(description='Labels', options=('checking_status', 'credit_histor…"
         },
         "metadata": {},
         "output_type": "display_data"
        }
       ]
      }
     },
     "7aa99bb754fa46be83a12d04be72b270": {
      "model_module": "@jupyter-widgets/controls",
      "model_module_version": "1.5.0",
      "model_name": "VBoxModel",
      "state": {
       "_dom_classes": [
        "widget-interact"
       ],
       "children": [
        "IPY_MODEL_980867bff6394bcba2755329582f3519",
        "IPY_MODEL_4727227763714227917d06803e6a5d0a",
        "IPY_MODEL_eb22e98d373f42dda48f8d08ab166886",
        "IPY_MODEL_73e423dd732a4938a7645f402f0bbf76",
        "IPY_MODEL_8717235bf52a4256a58da648a5d74636"
       ],
       "layout": "IPY_MODEL_e19fd5ef60c5424abf57ecc203a51bfc"
      }
     },
     "7d97bb3330a7470f8bb9e7493456a6c4": {
      "model_module": "@jupyter-widgets/output",
      "model_module_version": "1.0.0",
      "model_name": "OutputModel",
      "state": {
       "layout": "IPY_MODEL_e0a78d9159ad4a0ab657f49bc9932e97"
      }
     },
     "7daedebd082b4cde89411dea65f2d127": {
      "model_module": "@jupyter-widgets/base",
      "model_module_version": "1.2.0",
      "model_name": "LayoutModel",
      "state": {}
     },
     "7de1cbd84c91408689b47270fdf3c0ed": {
      "model_module": "@jupyter-widgets/controls",
      "model_module_version": "1.5.0",
      "model_name": "DescriptionStyleModel",
      "state": {
       "description_width": ""
      }
     },
     "7e6227a0ec11475e80b35fed440be309": {
      "model_module": "@jupyter-widgets/controls",
      "model_module_version": "1.5.0",
      "model_name": "TabModel",
      "state": {
       "_titles": {
        "0": "Scatter Plot",
        "1": "Pie Chart",
        "2": "Bar Plot",
        "3": "Violin Plot",
        "4": "Box Plot",
        "5": "Distribution Plot",
        "6": "Histogram",
        "7": "Correlation plot"
       },
       "children": [
        "IPY_MODEL_439cb431787b4975998cebae629d21fe",
        "IPY_MODEL_7a6d5dec51cc4411ace9e94073089a81",
        "IPY_MODEL_8040f346ca0e41e2a3db6585b1093df7",
        "IPY_MODEL_6514cdf0a6764c8eae48d559835f22f0",
        "IPY_MODEL_95a12e6da99247d6964b8db859338649",
        "IPY_MODEL_d75f6ea2ddb74a859ae1cd531427419c",
        "IPY_MODEL_37c37a44c6244a2d8042ccde946add27",
        "IPY_MODEL_8475e79dd91d419c84622cff341b4657"
       ],
       "layout": "IPY_MODEL_b3b964d17e574d55bdcd059f178d4fe5"
      }
     },
     "7ea2f2213f0c4e1598c3cea11ad6a26a": {
      "model_module": "@jupyter-widgets/controls",
      "model_module_version": "1.5.0",
      "model_name": "ButtonModel",
      "state": {
       "description": "Make_Chart",
       "layout": "IPY_MODEL_90e7ca835c404b79b17535768d79e3ae",
       "style": "IPY_MODEL_cf603c1d209644b6a351e01f2d7de7c4"
      }
     },
     "7f74a5ffcb7e4da28c34f20537cb879e": {
      "model_module": "@jupyter-widgets/output",
      "model_module_version": "1.0.0",
      "model_name": "OutputModel",
      "state": {
       "layout": "IPY_MODEL_57c8d970a37047fb8f434290f40c1f5e"
      }
     },
     "8040f346ca0e41e2a3db6585b1093df7": {
      "model_module": "@jupyter-widgets/output",
      "model_module_version": "1.0.0",
      "model_name": "OutputModel",
      "state": {
       "layout": "IPY_MODEL_2f3596b031c94f56b90e6844b4f68df9",
       "outputs": [
        {
         "data": {
          "application/vnd.jupyter.widget-view+json": {
           "model_id": "544eb69d5b8e4a6898110078f9799940",
           "version_major": 2,
           "version_minor": 0
          },
          "text/plain": "HTML(value='<h1>Bar Plots </h1>')"
         },
         "metadata": {},
         "output_type": "display_data"
        },
        {
         "data": {
          "application/vnd.jupyter.widget-view+json": {
           "model_id": "8a2c632964af453db9c02928adaa7ec3",
           "version_major": 2,
           "version_minor": 0
          },
          "text/plain": "HBox(children=(interactive(children=(Dropdown(description='X_Axis', options=('checking_status', 'credit_histor…"
         },
         "metadata": {},
         "output_type": "display_data"
        },
        {
         "data": {
          "application/vnd.jupyter.widget-view+json": {
           "model_id": "5ad38b3f0b5547488e7b78eec5c072e4",
           "version_major": 2,
           "version_minor": 0
          },
          "text/plain": "HBox(children=(interactive(children=(Dropdown(description='X_Axis', options=('checking_status', 'credit_histor…"
         },
         "metadata": {},
         "output_type": "display_data"
        }
       ]
      }
     },
     "809a71d9cf4e4942beb188fd22dc06fd": {
      "model_module": "@jupyter-widgets/base",
      "model_module_version": "1.2.0",
      "model_name": "LayoutModel",
      "state": {}
     },
     "809e1e4ae75c4875b603b7644ffdb7bd": {
      "model_module": "@jupyter-widgets/controls",
      "model_module_version": "1.5.0",
      "model_name": "DescriptionStyleModel",
      "state": {
       "description_width": ""
      }
     },
     "811b113be67f44819f2376885f1c188a": {
      "model_module": "@jupyter-widgets/controls",
      "model_module_version": "1.5.0",
      "model_name": "DescriptionStyleModel",
      "state": {
       "description_width": ""
      }
     },
     "81416092a4be45bbb59fb21c52fb6b1d": {
      "model_module": "@jupyter-widgets/controls",
      "model_module_version": "1.5.0",
      "model_name": "HBoxModel",
      "state": {
       "children": [
        "IPY_MODEL_eeef67b89a1a41bca0d092784b7e62cc",
        "IPY_MODEL_9d4e8107836241b98c7f61e3da82d0a6"
       ],
       "layout": "IPY_MODEL_96b62711d37e458089d85df08a4d710e"
      }
     },
     "81aab198872a4d43bb77a64b87cdd6d7": {
      "model_module": "@jupyter-widgets/base",
      "model_module_version": "1.2.0",
      "model_name": "LayoutModel",
      "state": {}
     },
     "8206edae9e784ce48d9d05bf334e8318": {
      "model_module": "@jupyter-widgets/base",
      "model_module_version": "1.2.0",
      "model_name": "LayoutModel",
      "state": {}
     },
     "825fed4f137a467c8f5d109ae6e0c8d2": {
      "model_module": "@jupyter-widgets/base",
      "model_module_version": "1.2.0",
      "model_name": "LayoutModel",
      "state": {}
     },
     "82cbecc5d8a24bf983c1cc1c79c2270a": {
      "model_module": "@jupyter-widgets/controls",
      "model_module_version": "1.5.0",
      "model_name": "DescriptionStyleModel",
      "state": {
       "description_width": ""
      }
     },
     "83df0927078b4e628d85073d530fe4d6": {
      "model_module": "@jupyter-widgets/controls",
      "model_module_version": "1.5.0",
      "model_name": "DropdownModel",
      "state": {
       "_options_labels": [
        "checking_status",
        "credit_history",
        "purpose",
        "savings_status",
        "employment",
        "personal_status",
        "other_parties",
        "property_magnitude",
        "other_payment_plans",
        "housing",
        "job",
        "own_telephone",
        "foreign_worker",
        "class"
       ],
       "description": "X_Axis",
       "index": 0,
       "layout": "IPY_MODEL_825fed4f137a467c8f5d109ae6e0c8d2",
       "style": "IPY_MODEL_ea62f412f3ed4ba69dc7faca73f39465"
      }
     },
     "844b079f2a1249069d18ba416e79cca9": {
      "model_module": "@jupyter-widgets/controls",
      "model_module_version": "1.5.0",
      "model_name": "ButtonStyleModel",
      "state": {}
     },
     "8475e79dd91d419c84622cff341b4657": {
      "model_module": "@jupyter-widgets/output",
      "model_module_version": "1.0.0",
      "model_name": "OutputModel",
      "state": {
       "layout": "IPY_MODEL_24617645ec84410dbdf0a6f8739f2029",
       "outputs": [
        {
         "data": {
          "application/vnd.jupyter.widget-view+json": {
           "model_id": "960d5694bf53403e83458a1a1b6193ec",
           "version_major": 2,
           "version_minor": 0
          },
          "text/plain": "HTML(value='<h1>Correlation Plots </h1>')"
         },
         "metadata": {},
         "output_type": "display_data"
        },
        {
         "data": {
          "application/vnd.jupyter.widget-view+json": {
           "model_id": "d6098a060b404bf2a3ae78d46236a1b8",
           "version_major": 2,
           "version_minor": 0
          },
          "text/plain": "interactive(children=(Dropdown(description='colorscale', options=('Greys', 'Greens', 'Bluered', 'RdBu', 'Reds'…"
         },
         "metadata": {},
         "output_type": "display_data"
        }
       ]
      }
     },
     "84eaa047ef56412594d2253b3c1cd187": {
      "model_module": "@jupyter-widgets/controls",
      "model_module_version": "1.5.0",
      "model_name": "DropdownModel",
      "state": {
       "_options_labels": [
        "duration",
        "credit_amount",
        "installment_commitment",
        "residence_since",
        "age",
        "existing_credits",
        "num_dependents"
       ],
       "description": "X_Axis",
       "index": 0,
       "layout": "IPY_MODEL_8ab3916eea504386b6c39891e53dc4d3",
       "style": "IPY_MODEL_d26b08a18de94953b594eafff6e834ea"
      }
     },
     "850535f7ccc64fd2bc4b4d5d5ed76057": {
      "model_module": "@jupyter-widgets/base",
      "model_module_version": "1.2.0",
      "model_name": "LayoutModel",
      "state": {}
     },
     "85fa0ba3ddff4abf98da6629f1ca869e": {
      "model_module": "@jupyter-widgets/controls",
      "model_module_version": "1.5.0",
      "model_name": "HTMLModel",
      "state": {
       "layout": "IPY_MODEL_95efacd47bdb4e4385434252758412f1",
       "style": "IPY_MODEL_c28085455db14866af453341de78666a",
       "value": "<h4><em>Charts compiled by Pywedge make_charts </em></h4>"
      }
     },
     "86dc63da254e41b6a1c02ca7d6eebeac": {
      "model_module": "@jupyter-widgets/controls",
      "model_module_version": "1.5.0",
      "model_name": "ButtonStyleModel",
      "state": {}
     },
     "8717235bf52a4256a58da648a5d74636": {
      "model_module": "@jupyter-widgets/output",
      "model_module_version": "1.0.0",
      "model_name": "OutputModel",
      "state": {
       "layout": "IPY_MODEL_ddacb5120488480d9b105f489fe7b939"
      }
     },
     "87871c8e97b44a28abeb51e7e19ae784": {
      "model_module": "@jupyter-widgets/base",
      "model_module_version": "1.2.0",
      "model_name": "LayoutModel",
      "state": {}
     },
     "886cb407f23c4c6e9449746d8e921add": {
      "model_module": "@jupyter-widgets/controls",
      "model_module_version": "1.5.0",
      "model_name": "ButtonModel",
      "state": {
       "description": "Make_Chart",
       "layout": "IPY_MODEL_e1945bcbf4874864b3984cc639e1ef14",
       "style": "IPY_MODEL_f0323ad178ec468b8fb2e767a9f86ab5"
      }
     },
     "8989a5762a9e4bb8993661a7545ea965": {
      "model_module": "@jupyter-widgets/base",
      "model_module_version": "1.2.0",
      "model_name": "LayoutModel",
      "state": {}
     },
     "8a2c632964af453db9c02928adaa7ec3": {
      "model_module": "@jupyter-widgets/controls",
      "model_module_version": "1.5.0",
      "model_name": "HBoxModel",
      "state": {
       "children": [
        "IPY_MODEL_065cc8ca035942338053c335c82c43a7",
        "IPY_MODEL_27da928072794653b0f437ff676b6300"
       ],
       "layout": "IPY_MODEL_48f32fb19bb44c9cb4e46b9db6f10918"
      }
     },
     "8aa26656e8b14250b696a7d2f05f9143": {
      "model_module": "@jupyter-widgets/base",
      "model_module_version": "1.2.0",
      "model_name": "LayoutModel",
      "state": {}
     },
     "8ab3916eea504386b6c39891e53dc4d3": {
      "model_module": "@jupyter-widgets/base",
      "model_module_version": "1.2.0",
      "model_name": "LayoutModel",
      "state": {}
     },
     "8afd2527939942a18753475222288214": {
      "model_module": "@jupyter-widgets/base",
      "model_module_version": "1.2.0",
      "model_name": "LayoutModel",
      "state": {}
     },
     "8b2b8a19ccd343f29c77b3ff2bd86fdd": {
      "model_module": "@jupyter-widgets/base",
      "model_module_version": "1.2.0",
      "model_name": "LayoutModel",
      "state": {}
     },
     "8b7fa410d7eb49e3800d3fcb236eab7c": {
      "model_module": "@jupyter-widgets/controls",
      "model_module_version": "1.5.0",
      "model_name": "ButtonStyleModel",
      "state": {}
     },
     "8d425cba3da44f1b8a11399aa68c8183": {
      "model_module": "@jupyter-widgets/base",
      "model_module_version": "1.2.0",
      "model_name": "LayoutModel",
      "state": {}
     },
     "8dceb58d605f431b95c306aea34cda37": {
      "model_module": "@jupyter-widgets/base",
      "model_module_version": "1.2.0",
      "model_name": "LayoutModel",
      "state": {}
     },
     "8dfa8a66dc8a47fa841b8d7c842ec7aa": {
      "model_module": "@jupyter-widgets/controls",
      "model_module_version": "1.5.0",
      "model_name": "DropdownModel",
      "state": {
       "_options_labels": [
        "checking_status",
        "duration",
        "credit_history",
        "purpose",
        "credit_amount",
        "savings_status",
        "employment",
        "installment_commitment",
        "personal_status",
        "other_parties",
        "residence_since",
        "property_magnitude",
        "age",
        "other_payment_plans",
        "housing",
        "existing_credits",
        "job",
        "num_dependents",
        "own_telephone",
        "foreign_worker",
        "class"
       ],
       "description": "X_Axis",
       "index": 0,
       "layout": "IPY_MODEL_26a8f993beee4cca969ebc41b4f34214",
       "style": "IPY_MODEL_4837b64c92e5473e973e3eef75455dab"
      }
     },
     "8e4bf6c1f4a640ffae66461e5e2b5471": {
      "model_module": "@jupyter-widgets/base",
      "model_module_version": "1.2.0",
      "model_name": "LayoutModel",
      "state": {}
     },
     "8e76b9b0b4674809b43e453a710c2a3d": {
      "model_module": "@jupyter-widgets/controls",
      "model_module_version": "1.5.0",
      "model_name": "ButtonModel",
      "state": {
       "description": "Make_Chart",
       "layout": "IPY_MODEL_2571573857c94fb4883e1fb22e0ed43b",
       "style": "IPY_MODEL_844b079f2a1249069d18ba416e79cca9"
      }
     },
     "8ef9ab87254a4ada89ea0d9e1a91260c": {
      "model_module": "@jupyter-widgets/output",
      "model_module_version": "1.0.0",
      "model_name": "OutputModel",
      "state": {
       "layout": "IPY_MODEL_00395bdebec348c4ba3e28e5610e1db8"
      }
     },
     "8f300dc97893477a930265daffa80d25": {
      "model_module": "@jupyter-widgets/base",
      "model_module_version": "1.2.0",
      "model_name": "LayoutModel",
      "state": {}
     },
     "9011ca692930411e9d67bea38f0e5f76": {
      "model_module": "@jupyter-widgets/controls",
      "model_module_version": "1.5.0",
      "model_name": "ButtonModel",
      "state": {
       "description": "Make_Chart",
       "layout": "IPY_MODEL_62243994f6864435a1db2200bd8e6991",
       "style": "IPY_MODEL_0957ee0019ad406d81dfc96a9b9d6229"
      }
     },
     "90da62c2d71048fd99d1479889dc50dd": {
      "model_module": "@jupyter-widgets/base",
      "model_module_version": "1.2.0",
      "model_name": "LayoutModel",
      "state": {}
     },
     "90e7ca835c404b79b17535768d79e3ae": {
      "model_module": "@jupyter-widgets/base",
      "model_module_version": "1.2.0",
      "model_name": "LayoutModel",
      "state": {}
     },
     "917967eeefbe4cef86322f1b158c26c5": {
      "model_module": "@jupyter-widgets/controls",
      "model_module_version": "1.5.0",
      "model_name": "HBoxModel",
      "state": {
       "children": [
        "IPY_MODEL_68f0b1ef571443df974939e2cf55bd76",
        "IPY_MODEL_4673be021adc48b792113d381db5de57"
       ],
       "layout": "IPY_MODEL_d6fb749c555144e2aa1c48b91ff729b2"
      }
     },
     "938b6f327a9242efb37b8399cd19a9ea": {
      "model_module": "@jupyter-widgets/controls",
      "model_module_version": "1.5.0",
      "model_name": "DescriptionStyleModel",
      "state": {
       "description_width": ""
      }
     },
     "94994104c7684aff815cebf3c2138922": {
      "model_module": "@jupyter-widgets/controls",
      "model_module_version": "1.5.0",
      "model_name": "DescriptionStyleModel",
      "state": {
       "description_width": ""
      }
     },
     "95a12e6da99247d6964b8db859338649": {
      "model_module": "@jupyter-widgets/output",
      "model_module_version": "1.0.0",
      "model_name": "OutputModel",
      "state": {
       "layout": "IPY_MODEL_2db491e307874903b056303b23afb76e",
       "outputs": [
        {
         "data": {
          "application/vnd.jupyter.widget-view+json": {
           "model_id": "d9f5234ac9db44b587ced9c2044a0659",
           "version_major": 2,
           "version_minor": 0
          },
          "text/plain": "HTML(value='<h1>Box Plots </h1>')"
         },
         "metadata": {},
         "output_type": "display_data"
        },
        {
         "data": {
          "application/vnd.jupyter.widget-view+json": {
           "model_id": "1b2f4d0aec88426ea7ccbabb77242a1f",
           "version_major": 2,
           "version_minor": 0
          },
          "text/plain": "HBox(children=(interactive(children=(Dropdown(description='X_Axis', options=('checking_status', 'credit_histor…"
         },
         "metadata": {},
         "output_type": "display_data"
        },
        {
         "data": {
          "application/vnd.jupyter.widget-view+json": {
           "model_id": "0f0ee89d551e4be19fc56b98907984bb",
           "version_major": 2,
           "version_minor": 0
          },
          "text/plain": "HBox(children=(interactive(children=(Dropdown(description='X_Axis', options=('checking_status', 'credit_histor…"
         },
         "metadata": {},
         "output_type": "display_data"
        }
       ]
      }
     },
     "95efacd47bdb4e4385434252758412f1": {
      "model_module": "@jupyter-widgets/base",
      "model_module_version": "1.2.0",
      "model_name": "LayoutModel",
      "state": {}
     },
     "960d5694bf53403e83458a1a1b6193ec": {
      "model_module": "@jupyter-widgets/controls",
      "model_module_version": "1.5.0",
      "model_name": "HTMLModel",
      "state": {
       "layout": "IPY_MODEL_716bc78a62464188904b9532b0fa24d8",
       "style": "IPY_MODEL_5562d9984d0d4833b26e0192168e4cab",
       "value": "<h1>Correlation Plots </h1>"
      }
     },
     "96b62711d37e458089d85df08a4d710e": {
      "model_module": "@jupyter-widgets/base",
      "model_module_version": "1.2.0",
      "model_name": "LayoutModel",
      "state": {}
     },
     "980867bff6394bcba2755329582f3519": {
      "model_module": "@jupyter-widgets/controls",
      "model_module_version": "1.5.0",
      "model_name": "DropdownModel",
      "state": {
       "_options_labels": [
        "checking_status",
        "credit_history",
        "purpose",
        "savings_status",
        "employment",
        "personal_status",
        "other_parties",
        "property_magnitude",
        "other_payment_plans",
        "housing",
        "job",
        "own_telephone",
        "foreign_worker",
        "class"
       ],
       "description": "X_Axis",
       "index": 0,
       "layout": "IPY_MODEL_cf21a7d183e24af984b5b79a14702a61",
       "style": "IPY_MODEL_29e4d8c616f94a4ab4566540564ee975"
      }
     },
     "9831291bb9c947ca846d6cf5e58e5d03": {
      "model_module": "@jupyter-widgets/base",
      "model_module_version": "1.2.0",
      "model_name": "LayoutModel",
      "state": {}
     },
     "9900569b5210483592bd792e531692eb": {
      "model_module": "@jupyter-widgets/controls",
      "model_module_version": "1.5.0",
      "model_name": "DescriptionStyleModel",
      "state": {
       "description_width": ""
      }
     },
     "992adeef4c284c08a2c89dbb7a1bddf4": {
      "model_module": "@jupyter-widgets/controls",
      "model_module_version": "1.5.0",
      "model_name": "VBoxModel",
      "state": {
       "_dom_classes": [
        "widget-interact"
       ],
       "children": [
        "IPY_MODEL_9ef7b6c249794668971eb4dfefe9b021",
        "IPY_MODEL_eb329e1999ff494b9e307dbd09b2602a",
        "IPY_MODEL_9f19a61d42504eae96a0e4469f7b4fef",
        "IPY_MODEL_7ea2f2213f0c4e1598c3cea11ad6a26a",
        "IPY_MODEL_7f74a5ffcb7e4da28c34f20537cb879e"
       ],
       "layout": "IPY_MODEL_37526dffc76845dda6aa16d440ccc712"
      }
     },
     "997225d45d1243dd932379369e835b5e": {
      "model_module": "@jupyter-widgets/controls",
      "model_module_version": "1.5.0",
      "model_name": "DropdownModel",
      "state": {
       "_options_labels": [
        "credit_amount",
        "installment_commitment",
        "residence_since",
        "age",
        "existing_credits",
        "num_dependents"
       ],
       "description": "Y_Axis",
       "index": 0,
       "layout": "IPY_MODEL_8e4bf6c1f4a640ffae66461e5e2b5471",
       "style": "IPY_MODEL_a24346d5c25c435e9c152c9840918c88"
      }
     },
     "997f80c845fd4563bbd70cd52df1ef02": {
      "model_module": "@jupyter-widgets/base",
      "model_module_version": "1.2.0",
      "model_name": "LayoutModel",
      "state": {}
     },
     "9983440fa1e24b12b2a382a957bcb387": {
      "model_module": "@jupyter-widgets/base",
      "model_module_version": "1.2.0",
      "model_name": "LayoutModel",
      "state": {}
     },
     "9988db09d145414c872936924a5f7870": {
      "model_module": "@jupyter-widgets/base",
      "model_module_version": "1.2.0",
      "model_name": "LayoutModel",
      "state": {}
     },
     "9a5c985cbb274e08a345103a60c84dce": {
      "model_module": "@jupyter-widgets/controls",
      "model_module_version": "1.5.0",
      "model_name": "HTMLModel",
      "state": {
       "layout": "IPY_MODEL_beb2f02584ea4001b08c88d554b492a3",
       "style": "IPY_MODEL_0348b9f36af548cfaa720144c247a1b5",
       "value": "<h1>Distribution Plots </h1>"
      }
     },
     "9acfea5636df49b8bf9e1873d70c70b5": {
      "model_module": "@jupyter-widgets/controls",
      "model_module_version": "1.5.0",
      "model_name": "DescriptionStyleModel",
      "state": {
       "description_width": ""
      }
     },
     "9afbed515bc14ef4bcccd08961fddf7b": {
      "model_module": "@jupyter-widgets/controls",
      "model_module_version": "1.5.0",
      "model_name": "DropdownModel",
      "state": {
       "_options_labels": [
        "checking_status",
        "credit_history",
        "purpose",
        "savings_status",
        "employment",
        "personal_status",
        "other_parties",
        "property_magnitude",
        "other_payment_plans",
        "housing",
        "job",
        "own_telephone",
        "foreign_worker",
        "class"
       ],
       "description": "X_Axis",
       "index": 0,
       "layout": "IPY_MODEL_2df8eab9b43c46b6a40fea9768b0276c",
       "style": "IPY_MODEL_cd5a4cc051c8465a9f60f88587099082"
      }
     },
     "9c43c0e53190483eb8df2250da322091": {
      "model_module": "@jupyter-widgets/controls",
      "model_module_version": "1.5.0",
      "model_name": "DropdownModel",
      "state": {
       "_options_labels": [
        "checking_status",
        "credit_history",
        "purpose",
        "savings_status",
        "employment",
        "personal_status",
        "other_parties",
        "property_magnitude",
        "other_payment_plans",
        "housing",
        "job",
        "own_telephone",
        "foreign_worker",
        "class"
       ],
       "description": "Color",
       "index": 0,
       "layout": "IPY_MODEL_c5d1b60e16dc4283ab9e2744570d4782",
       "style": "IPY_MODEL_a686863322ee4121bfa9696410beebfa"
      }
     },
     "9c69dc1e17fd43a5aadeac878427ec91": {
      "model_module": "@jupyter-widgets/base",
      "model_module_version": "1.2.0",
      "model_name": "LayoutModel",
      "state": {}
     },
     "9d4e8107836241b98c7f61e3da82d0a6": {
      "model_module": "@jupyter-widgets/controls",
      "model_module_version": "1.5.0",
      "model_name": "VBoxModel",
      "state": {
       "_dom_classes": [
        "widget-interact"
       ],
       "children": [
        "IPY_MODEL_84eaa047ef56412594d2253b3c1cd187",
        "IPY_MODEL_52e6f8f206de48958ff59b4140e4a9fd",
        "IPY_MODEL_731a9611c9a74afbbff270ee4cf41a4c",
        "IPY_MODEL_9011ca692930411e9d67bea38f0e5f76",
        "IPY_MODEL_8ef9ab87254a4ada89ea0d9e1a91260c"
       ],
       "layout": "IPY_MODEL_8989a5762a9e4bb8993661a7545ea965"
      }
     },
     "9e42e7eec154419a85f6811259deb67d": {
      "model_module": "@jupyter-widgets/base",
      "model_module_version": "1.2.0",
      "model_name": "LayoutModel",
      "state": {}
     },
     "9ef7b6c249794668971eb4dfefe9b021": {
      "model_module": "@jupyter-widgets/controls",
      "model_module_version": "1.5.0",
      "model_name": "DropdownModel",
      "state": {
       "_options_labels": [
        "duration",
        "credit_amount",
        "installment_commitment",
        "residence_since",
        "age",
        "existing_credits",
        "num_dependents"
       ],
       "description": "X_Axis",
       "index": 0,
       "layout": "IPY_MODEL_58707538f2e6483aab649e7d7bfed32f",
       "style": "IPY_MODEL_32371ea1429f45f5a35e70065f3c42ec"
      }
     },
     "9eff6291deae4e8db79fc8d8286fd9e9": {
      "model_module": "@jupyter-widgets/controls",
      "model_module_version": "1.5.0",
      "model_name": "ButtonModel",
      "state": {
       "description": "Make_Chart",
       "layout": "IPY_MODEL_7daedebd082b4cde89411dea65f2d127",
       "style": "IPY_MODEL_f285f56706d248898c822ea3516d078d"
      }
     },
     "9f19a61d42504eae96a0e4469f7b4fef": {
      "model_module": "@jupyter-widgets/controls",
      "model_module_version": "1.5.0",
      "model_name": "DropdownModel",
      "state": {
       "_options_labels": [
        "checking_status",
        "credit_history",
        "purpose",
        "savings_status",
        "employment",
        "personal_status",
        "other_parties",
        "property_magnitude",
        "other_payment_plans",
        "housing",
        "job",
        "own_telephone",
        "foreign_worker",
        "class"
       ],
       "description": "Color",
       "index": 0,
       "layout": "IPY_MODEL_1cca1f1bb83f495b873354fa83391c6e",
       "style": "IPY_MODEL_28f1e5b88d7c430f93b304a496f45ab5"
      }
     },
     "9f58b142c19f467b9cc32df3db566671": {
      "model_module": "@jupyter-widgets/controls",
      "model_module_version": "1.5.0",
      "model_name": "DropdownModel",
      "state": {
       "_options_labels": [
        "duration",
        "credit_amount",
        "installment_commitment",
        "residence_since",
        "age",
        "existing_credits",
        "num_dependents"
       ],
       "description": "Y_Axis",
       "index": 0,
       "layout": "IPY_MODEL_026ec96fc02648f49d93e8f6d50375ba",
       "style": "IPY_MODEL_636831e052b14f6daa5c81982c787037"
      }
     },
     "a024ea190c284103b617fa3416f40f1c": {
      "model_module": "@jupyter-widgets/controls",
      "model_module_version": "1.5.0",
      "model_name": "DescriptionStyleModel",
      "state": {
       "description_width": ""
      }
     },
     "a05197445f614488b97e03b4a308eb43": {
      "model_module": "@jupyter-widgets/controls",
      "model_module_version": "1.5.0",
      "model_name": "ButtonModel",
      "state": {
       "description": "Make_Chart",
       "layout": "IPY_MODEL_8dceb58d605f431b95c306aea34cda37",
       "style": "IPY_MODEL_8b7fa410d7eb49e3800d3fcb236eab7c"
      }
     },
     "a056910e3a174e3591ab62c90517631c": {
      "model_module": "@jupyter-widgets/controls",
      "model_module_version": "1.5.0",
      "model_name": "DescriptionStyleModel",
      "state": {
       "description_width": ""
      }
     },
     "a064f4f8bacd49d8b4b56c27cd428da6": {
      "model_module": "@jupyter-widgets/base",
      "model_module_version": "1.2.0",
      "model_name": "LayoutModel",
      "state": {}
     },
     "a102c3ff765943599bf79a18797cf781": {
      "model_module": "@jupyter-widgets/output",
      "model_module_version": "1.0.0",
      "model_name": "OutputModel",
      "state": {
       "layout": "IPY_MODEL_262667daf64548a881bbafb05fce7198"
      }
     },
     "a194655fa0854ca18360ff6b0fdb0c01": {
      "model_module": "@jupyter-widgets/controls",
      "model_module_version": "1.5.0",
      "model_name": "ButtonModel",
      "state": {
       "description": "Make_Chart",
       "layout": "IPY_MODEL_71d15de007a74a669b1a4c67963a3814",
       "style": "IPY_MODEL_2a09bbd02072488f9e492410a4cb0354"
      }
     },
     "a1f92042650746db99c34f859602a2d2": {
      "model_module": "@jupyter-widgets/base",
      "model_module_version": "1.2.0",
      "model_name": "LayoutModel",
      "state": {}
     },
     "a24346d5c25c435e9c152c9840918c88": {
      "model_module": "@jupyter-widgets/controls",
      "model_module_version": "1.5.0",
      "model_name": "DescriptionStyleModel",
      "state": {
       "description_width": ""
      }
     },
     "a2654ba129544df283ef2384fb8503c1": {
      "model_module": "@jupyter-widgets/controls",
      "model_module_version": "1.5.0",
      "model_name": "DropdownModel",
      "state": {
       "_options_labels": [
        "checking_status",
        "credit_history",
        "purpose",
        "savings_status",
        "employment",
        "personal_status",
        "other_parties",
        "property_magnitude",
        "other_payment_plans",
        "housing",
        "job",
        "own_telephone",
        "foreign_worker",
        "class"
       ],
       "description": "Color",
       "index": 0,
       "layout": "IPY_MODEL_eccfd9687d674f0a911f9b0008911248",
       "style": "IPY_MODEL_73117d27b2614445a6823cd9deb1d6d0"
      }
     },
     "a28b8de2f60b4d68851270ea6c538452": {
      "model_module": "@jupyter-widgets/controls",
      "model_module_version": "1.5.0",
      "model_name": "DropdownModel",
      "state": {
       "_options_labels": [
        "checking_status",
        "credit_history",
        "purpose",
        "savings_status",
        "employment",
        "personal_status",
        "other_parties",
        "property_magnitude",
        "other_payment_plans",
        "housing",
        "job",
        "own_telephone",
        "foreign_worker",
        "class"
       ],
       "description": "Labels",
       "index": 0,
       "layout": "IPY_MODEL_cbca86bd2a0349c59cdbc7e06f430781",
       "style": "IPY_MODEL_7523904d20f94b93ae29c1252ed6b373"
      }
     },
     "a4500e88377c4d6390d97c0a6f7f35c1": {
      "model_module": "@jupyter-widgets/output",
      "model_module_version": "1.0.0",
      "model_name": "OutputModel",
      "state": {
       "layout": "IPY_MODEL_34b41997bea5441e8d97e533103c1626"
      }
     },
     "a4fef298afd642d5b3a8a3f7df858c2c": {
      "model_module": "@jupyter-widgets/base",
      "model_module_version": "1.2.0",
      "model_name": "LayoutModel",
      "state": {}
     },
     "a58babdcffe843f0b2cb6f513b559eff": {
      "model_module": "@jupyter-widgets/controls",
      "model_module_version": "1.5.0",
      "model_name": "DropdownModel",
      "state": {
       "_options_labels": [
        "checking_status",
        "credit_history",
        "purpose",
        "savings_status",
        "employment",
        "personal_status",
        "other_parties",
        "property_magnitude",
        "other_payment_plans",
        "housing",
        "job",
        "own_telephone",
        "foreign_worker",
        "class"
       ],
       "description": "Labels",
       "index": 0,
       "layout": "IPY_MODEL_c8070183533c4cb69b875741aab23bb7",
       "style": "IPY_MODEL_809e1e4ae75c4875b603b7644ffdb7bd"
      }
     },
     "a611e980714e4997998c588045dbb5a4": {
      "model_module": "@jupyter-widgets/base",
      "model_module_version": "1.2.0",
      "model_name": "LayoutModel",
      "state": {}
     },
     "a6821e5b7fde42c68817ef351baac6f4": {
      "model_module": "@jupyter-widgets/controls",
      "model_module_version": "1.5.0",
      "model_name": "DropdownModel",
      "state": {
       "_options_labels": [
        "checking_status",
        "duration",
        "credit_history",
        "purpose",
        "credit_amount",
        "savings_status",
        "employment",
        "installment_commitment",
        "personal_status",
        "other_parties",
        "residence_since",
        "property_magnitude",
        "age",
        "other_payment_plans",
        "housing",
        "existing_credits",
        "job",
        "num_dependents",
        "own_telephone",
        "foreign_worker",
        "class"
       ],
       "description": "X_Axis",
       "index": 0,
       "layout": "IPY_MODEL_66e7f4a822174f6a9d991a80d6a7307c",
       "style": "IPY_MODEL_f983cedf20dd416d873b654694fea69a"
      }
     },
     "a686863322ee4121bfa9696410beebfa": {
      "model_module": "@jupyter-widgets/controls",
      "model_module_version": "1.5.0",
      "model_name": "DescriptionStyleModel",
      "state": {
       "description_width": ""
      }
     },
     "a694f3a6bca744179097edb797004b67": {
      "model_module": "@jupyter-widgets/controls",
      "model_module_version": "1.5.0",
      "model_name": "ButtonStyleModel",
      "state": {}
     },
     "a756076107ee4234b6e86d830dfe38d8": {
      "model_module": "@jupyter-widgets/base",
      "model_module_version": "1.2.0",
      "model_name": "LayoutModel",
      "state": {}
     },
     "a77099ffd5b94a5ca0404a0332421b5e": {
      "model_module": "@jupyter-widgets/base",
      "model_module_version": "1.2.0",
      "model_name": "LayoutModel",
      "state": {}
     },
     "a84da60bc84349e89df9b111aec6704f": {
      "model_module": "@jupyter-widgets/base",
      "model_module_version": "1.2.0",
      "model_name": "LayoutModel",
      "state": {}
     },
     "a8c09e2992d64c4f9960b6bd42b27b78": {
      "model_module": "@jupyter-widgets/base",
      "model_module_version": "1.2.0",
      "model_name": "LayoutModel",
      "state": {}
     },
     "a92a823db3dc4328bcb6ae7a0b6bd0fa": {
      "model_module": "@jupyter-widgets/controls",
      "model_module_version": "1.5.0",
      "model_name": "DropdownModel",
      "state": {
       "_options_labels": [
        "duration",
        "credit_amount",
        "installment_commitment",
        "residence_since",
        "age",
        "existing_credits",
        "num_dependents"
       ],
       "description": "X_Axis",
       "index": 0,
       "layout": "IPY_MODEL_02f10a656c0948dd8eca408c06c8b20e",
       "style": "IPY_MODEL_ba069daa1a6d4e32b0b472dfd0a1a60b"
      }
     },
     "a99b9bb3a43148758cc918e77ac2e87b": {
      "model_module": "@jupyter-widgets/controls",
      "model_module_version": "1.5.0",
      "model_name": "DescriptionStyleModel",
      "state": {
       "description_width": ""
      }
     },
     "aa2620d40f7d404ead9b525d2e11b9f3": {
      "model_module": "@jupyter-widgets/controls",
      "model_module_version": "1.5.0",
      "model_name": "DropdownModel",
      "state": {
       "_options_labels": [
        "credit_amount",
        "installment_commitment",
        "residence_since",
        "age",
        "existing_credits",
        "num_dependents"
       ],
       "description": "Y_Axis",
       "index": 0,
       "layout": "IPY_MODEL_a064f4f8bacd49d8b4b56c27cd428da6",
       "style": "IPY_MODEL_e091b755aa774a32ad62deb3934440a0"
      }
     },
     "aa331259a7614cfab342a33a98b67f33": {
      "model_module": "@jupyter-widgets/base",
      "model_module_version": "1.2.0",
      "model_name": "LayoutModel",
      "state": {}
     },
     "aacb1c2e22aa4e0a85d2e17a250cd0bb": {
      "model_module": "@jupyter-widgets/output",
      "model_module_version": "1.0.0",
      "model_name": "OutputModel",
      "state": {
       "layout": "IPY_MODEL_0af6c7b438f2447abaf985aa56841af9"
      }
     },
     "ac62ce99b57a464e8eec70bbeb0c4580": {
      "model_module": "@jupyter-widgets/base",
      "model_module_version": "1.2.0",
      "model_name": "LayoutModel",
      "state": {}
     },
     "acfb92f5d88d495fbdb6228fd4b01b11": {
      "model_module": "@jupyter-widgets/controls",
      "model_module_version": "1.5.0",
      "model_name": "DropdownModel",
      "state": {
       "_options_labels": [
        "duration",
        "credit_amount",
        "installment_commitment",
        "residence_since",
        "age",
        "existing_credits",
        "num_dependents"
       ],
       "index": 0,
       "layout": "IPY_MODEL_7a5e53b4ad844eb286d9f4c55576d2a2",
       "style": "IPY_MODEL_94994104c7684aff815cebf3c2138922"
      }
     },
     "ad4b8e52c76443f5ae71654b5544162b": {
      "model_module": "@jupyter-widgets/controls",
      "model_module_version": "1.5.0",
      "model_name": "VBoxModel",
      "state": {
       "_dom_classes": [
        "widget-interact"
       ],
       "children": [
        "IPY_MODEL_0c79dd63a9d94dcca80e215b77c4a5b6",
        "IPY_MODEL_4236dca357704b4286a0e37b65c9b4cc",
        "IPY_MODEL_3c98b7e91942401395b604bfe35b018d",
        "IPY_MODEL_a4500e88377c4d6390d97c0a6f7f35c1"
       ],
       "layout": "IPY_MODEL_90da62c2d71048fd99d1479889dc50dd"
      }
     },
     "ae551c30c7e04bfdbab92bc255a57255": {
      "model_module": "@jupyter-widgets/base",
      "model_module_version": "1.2.0",
      "model_name": "LayoutModel",
      "state": {}
     },
     "aea5d056eb1d412c968ead6e21517b52": {
      "model_module": "@jupyter-widgets/controls",
      "model_module_version": "1.5.0",
      "model_name": "DescriptionStyleModel",
      "state": {
       "description_width": ""
      }
     },
     "aef80b26f8834efbb6054c0ea3b0841c": {
      "model_module": "@jupyter-widgets/controls",
      "model_module_version": "1.5.0",
      "model_name": "ButtonStyleModel",
      "state": {}
     },
     "b00baf0260a04d67b13ddb14708ffe9c": {
      "model_module": "@jupyter-widgets/controls",
      "model_module_version": "1.5.0",
      "model_name": "DropdownModel",
      "state": {
       "_options_labels": [
        "duration",
        "credit_amount",
        "installment_commitment",
        "residence_since",
        "age",
        "existing_credits",
        "num_dependents"
       ],
       "description": "Color",
       "index": 0,
       "layout": "IPY_MODEL_cfdd2ec4496c488a8aff4d8faa4ff65b",
       "style": "IPY_MODEL_f1152f2d665148d8a8175a4943b185fa"
      }
     },
     "b08757b51a4c45fabb1c8b94c5a321be": {
      "model_module": "@jupyter-widgets/controls",
      "model_module_version": "1.5.0",
      "model_name": "DescriptionStyleModel",
      "state": {
       "description_width": ""
      }
     },
     "b09c19a0b19c4366901c32d4ece34596": {
      "model_module": "@jupyter-widgets/controls",
      "model_module_version": "1.5.0",
      "model_name": "DescriptionStyleModel",
      "state": {
       "description_width": ""
      }
     },
     "b0b121eeded84b80b58b163119b37e74": {
      "model_module": "@jupyter-widgets/base",
      "model_module_version": "1.2.0",
      "model_name": "LayoutModel",
      "state": {}
     },
     "b13b4a6175e74078ac21c54273dbd81d": {
      "model_module": "@jupyter-widgets/base",
      "model_module_version": "1.2.0",
      "model_name": "LayoutModel",
      "state": {}
     },
     "b29d460acced419f9fd100248e34468c": {
      "model_module": "@jupyter-widgets/base",
      "model_module_version": "1.2.0",
      "model_name": "LayoutModel",
      "state": {}
     },
     "b3b964d17e574d55bdcd059f178d4fe5": {
      "model_module": "@jupyter-widgets/base",
      "model_module_version": "1.2.0",
      "model_name": "LayoutModel",
      "state": {}
     },
     "b539406719524d1f91a53eda529d41d7": {
      "model_module": "@jupyter-widgets/base",
      "model_module_version": "1.2.0",
      "model_name": "LayoutModel",
      "state": {}
     },
     "b54e7890d1664ad1af167b1750fdc4f4": {
      "model_module": "@jupyter-widgets/controls",
      "model_module_version": "1.5.0",
      "model_name": "HTMLModel",
      "state": {
       "layout": "IPY_MODEL_1d76f433dd404fc9a08d7f1b3e69de6c",
       "style": "IPY_MODEL_114b13f7735a4e2a973661cf80167875",
       "value": "<h1>Histogram </h1>"
      }
     },
     "b6196f26ad1f4be4b1bb52d0405f0306": {
      "model_module": "@jupyter-widgets/controls",
      "model_module_version": "1.5.0",
      "model_name": "DropdownModel",
      "state": {
       "_options_labels": [
        "checking_status",
        "credit_history",
        "purpose",
        "savings_status",
        "employment",
        "personal_status",
        "other_parties",
        "property_magnitude",
        "other_payment_plans",
        "housing",
        "job",
        "own_telephone",
        "foreign_worker",
        "class"
       ],
       "description": "Color",
       "index": 0,
       "layout": "IPY_MODEL_aa331259a7614cfab342a33a98b67f33",
       "style": "IPY_MODEL_6e3c56e94d174a4c813bc7729176be61"
      }
     },
     "b65c7fb679b74646b994a169913f2e87": {
      "model_module": "@jupyter-widgets/controls",
      "model_module_version": "1.5.0",
      "model_name": "DropdownModel",
      "state": {
       "_options_labels": [
        "checking_status",
        "credit_history",
        "purpose",
        "savings_status",
        "employment",
        "personal_status",
        "other_parties",
        "property_magnitude",
        "other_payment_plans",
        "housing",
        "job",
        "own_telephone",
        "foreign_worker",
        "class"
       ],
       "description": "Color",
       "index": 0,
       "layout": "IPY_MODEL_11de9de041a34a4bb36b45190666cbe9",
       "style": "IPY_MODEL_811b113be67f44819f2376885f1c188a"
      }
     },
     "b6a5c23f567b44df97dbf33148255846": {
      "model_module": "@jupyter-widgets/base",
      "model_module_version": "1.2.0",
      "model_name": "LayoutModel",
      "state": {}
     },
     "b6e626cc6c55400da7af0608996442cf": {
      "model_module": "@jupyter-widgets/controls",
      "model_module_version": "1.5.0",
      "model_name": "ButtonStyleModel",
      "state": {}
     },
     "b6e93d10c7984eb49433c14ce877d68c": {
      "model_module": "@jupyter-widgets/controls",
      "model_module_version": "1.5.0",
      "model_name": "DescriptionStyleModel",
      "state": {
       "description_width": ""
      }
     },
     "b7b884cf447a4347b5b93073c6433a6b": {
      "model_module": "@jupyter-widgets/base",
      "model_module_version": "1.2.0",
      "model_name": "LayoutModel",
      "state": {}
     },
     "b96b99b516fc4091b2f3432ab5307748": {
      "model_module": "@jupyter-widgets/controls",
      "model_module_version": "1.5.0",
      "model_name": "DropdownModel",
      "state": {
       "_options_labels": [
        "duration",
        "credit_amount",
        "installment_commitment",
        "residence_since",
        "age",
        "existing_credits",
        "num_dependents"
       ],
       "description": "X_Axis",
       "index": 0,
       "layout": "IPY_MODEL_0216d6e5c7f94d9bbeda9315da83ed44",
       "style": "IPY_MODEL_b6e93d10c7984eb49433c14ce877d68c"
      }
     },
     "b971bf7207c44d7fa3c16276fffe4c8d": {
      "model_module": "@jupyter-widgets/controls",
      "model_module_version": "1.5.0",
      "model_name": "DropdownModel",
      "state": {
       "_options_labels": [
        "credit_amount",
        "installment_commitment",
        "residence_since",
        "age",
        "existing_credits",
        "num_dependents"
       ],
       "description": "Y_Axis",
       "index": 0,
       "layout": "IPY_MODEL_769ee383f5a648149370d77ea7544062",
       "style": "IPY_MODEL_b09c19a0b19c4366901c32d4ece34596"
      }
     },
     "b9c10988a27249cd8f2b1486f058b74b": {
      "model_module": "@jupyter-widgets/controls",
      "model_module_version": "1.5.0",
      "model_name": "ButtonModel",
      "state": {
       "description": "Make_Chart",
       "layout": "IPY_MODEL_39233fd5f908477ba9f7383199abff6e",
       "style": "IPY_MODEL_6158a0c0a3b74daba7da0e0585337dfa"
      }
     },
     "ba069daa1a6d4e32b0b472dfd0a1a60b": {
      "model_module": "@jupyter-widgets/controls",
      "model_module_version": "1.5.0",
      "model_name": "DescriptionStyleModel",
      "state": {
       "description_width": ""
      }
     },
     "ba77f8d5af5f488c8c58bfc971a6925f": {
      "model_module": "@jupyter-widgets/base",
      "model_module_version": "1.2.0",
      "model_name": "LayoutModel",
      "state": {}
     },
     "bae6f71385c2462da6324939b52eb1c8": {
      "model_module": "@jupyter-widgets/base",
      "model_module_version": "1.2.0",
      "model_name": "LayoutModel",
      "state": {}
     },
     "bb79eb5a6732424386dfc89839c2e19c": {
      "model_module": "@jupyter-widgets/controls",
      "model_module_version": "1.5.0",
      "model_name": "VBoxModel",
      "state": {
       "_dom_classes": [
        "widget-interact"
       ],
       "children": [
        "IPY_MODEL_2ac6cfb878ee4322a9fbc90161ff379a",
        "IPY_MODEL_73c978ef83c145db8fdcea9e4bcd5b88",
        "IPY_MODEL_1eb7ff1d1fb04a508c4d767534b01945",
        "IPY_MODEL_6f9f5f39031345f18f857ddded804a23",
        "IPY_MODEL_aacb1c2e22aa4e0a85d2e17a250cd0bb"
       ],
       "layout": "IPY_MODEL_3aeb9139a5ea4ccf991fe1815447e727"
      }
     },
     "bb7e702805ed406ba63398e20e916e3e": {
      "model_module": "@jupyter-widgets/base",
      "model_module_version": "1.2.0",
      "model_name": "LayoutModel",
      "state": {}
     },
     "bba4f3e6a447406ca0a90fdf90abda5f": {
      "model_module": "@jupyter-widgets/output",
      "model_module_version": "1.0.0",
      "model_name": "OutputModel",
      "state": {
       "layout": "IPY_MODEL_79c21839978d4bc8a736db52103db09e"
      }
     },
     "bc535a13301a45ffb8ff6add58103dc8": {
      "model_module": "@jupyter-widgets/output",
      "model_module_version": "1.0.0",
      "model_name": "OutputModel",
      "state": {
       "layout": "IPY_MODEL_37a0b13c57b44fed819a8ab85474a05e"
      }
     },
     "bd95fffd9c0f457bbf286ab987679738": {
      "model_module": "@jupyter-widgets/base",
      "model_module_version": "1.2.0",
      "model_name": "LayoutModel",
      "state": {}
     },
     "be3f83a929fc4ab0a15b0a01d7be6ac4": {
      "model_module": "@jupyter-widgets/controls",
      "model_module_version": "1.5.0",
      "model_name": "DescriptionStyleModel",
      "state": {
       "description_width": ""
      }
     },
     "beb2f02584ea4001b08c88d554b492a3": {
      "model_module": "@jupyter-widgets/base",
      "model_module_version": "1.2.0",
      "model_name": "LayoutModel",
      "state": {}
     },
     "bee38fdd6964451e96244100e6deafef": {
      "model_module": "@jupyter-widgets/controls",
      "model_module_version": "1.5.0",
      "model_name": "HBoxModel",
      "state": {
       "children": [
        "IPY_MODEL_e28b3542eeae4d03ae3ca1a129df69d8",
        "IPY_MODEL_07c02351e93345378bf33892797c3af6"
       ],
       "layout": "IPY_MODEL_4c352570683941318679bebaf39ee554"
      }
     },
     "bff7629d8f044d7cb2459b2444b0301a": {
      "model_module": "@jupyter-widgets/base",
      "model_module_version": "1.2.0",
      "model_name": "LayoutModel",
      "state": {}
     },
     "c022a04905764f13994089cfa4abc6cf": {
      "model_module": "@jupyter-widgets/output",
      "model_module_version": "1.0.0",
      "model_name": "OutputModel",
      "state": {
       "layout": "IPY_MODEL_095b5629d52142678b0546398d4a9763"
      }
     },
     "c04505cd10d442a395d32dc638e88536": {
      "model_module": "@jupyter-widgets/controls",
      "model_module_version": "1.5.0",
      "model_name": "ButtonModel",
      "state": {
       "description": "Make_Chart",
       "layout": "IPY_MODEL_b539406719524d1f91a53eda529d41d7",
       "style": "IPY_MODEL_d1f14a7a60384b56ba4fca7d2966e1a3"
      }
     },
     "c094dee64e484f6abd6f1dfc23dbf6d7": {
      "model_module": "@jupyter-widgets/controls",
      "model_module_version": "1.5.0",
      "model_name": "DropdownModel",
      "state": {
       "_options_labels": [
        "checking_status",
        "credit_history",
        "purpose",
        "savings_status",
        "employment",
        "personal_status",
        "other_parties",
        "property_magnitude",
        "other_payment_plans",
        "housing",
        "job",
        "own_telephone",
        "foreign_worker",
        "class"
       ],
       "description": "Color",
       "index": 0,
       "layout": "IPY_MODEL_8b2b8a19ccd343f29c77b3ff2bd86fdd",
       "style": "IPY_MODEL_f8def3b28c794ff497d5cd1df4ead26f"
      }
     },
     "c140cd4e889241e09cc2bda344ce9524": {
      "model_module": "@jupyter-widgets/base",
      "model_module_version": "1.2.0",
      "model_name": "LayoutModel",
      "state": {}
     },
     "c1a9163549a644238e49199a5b6efcd5": {
      "model_module": "@jupyter-widgets/controls",
      "model_module_version": "1.5.0",
      "model_name": "ButtonStyleModel",
      "state": {}
     },
     "c218f6b30b9145289e16a103bdf1bf05": {
      "model_module": "@jupyter-widgets/controls",
      "model_module_version": "1.5.0",
      "model_name": "DescriptionStyleModel",
      "state": {
       "description_width": ""
      }
     },
     "c28085455db14866af453341de78666a": {
      "model_module": "@jupyter-widgets/controls",
      "model_module_version": "1.5.0",
      "model_name": "DescriptionStyleModel",
      "state": {
       "description_width": ""
      }
     },
     "c2e3071c25cd4a94be505e3857edf61f": {
      "model_module": "@jupyter-widgets/base",
      "model_module_version": "1.2.0",
      "model_name": "LayoutModel",
      "state": {}
     },
     "c33c0c7ac6d446349b024b39a7c37221": {
      "model_module": "@jupyter-widgets/controls",
      "model_module_version": "1.5.0",
      "model_name": "DescriptionStyleModel",
      "state": {
       "description_width": ""
      }
     },
     "c354454a67f24e5dabe8e26fdca2b026": {
      "model_module": "@jupyter-widgets/base",
      "model_module_version": "1.2.0",
      "model_name": "LayoutModel",
      "state": {}
     },
     "c37d0f0786ac4464b98b7e02c9d1234f": {
      "model_module": "@jupyter-widgets/base",
      "model_module_version": "1.2.0",
      "model_name": "LayoutModel",
      "state": {}
     },
     "c46bc253a0834c3a8c700f7afc2beda1": {
      "model_module": "@jupyter-widgets/base",
      "model_module_version": "1.2.0",
      "model_name": "LayoutModel",
      "state": {}
     },
     "c4cb392ec29743c3bb073e3a35f19eb2": {
      "model_module": "@jupyter-widgets/output",
      "model_module_version": "1.0.0",
      "model_name": "OutputModel",
      "state": {
       "layout": "IPY_MODEL_dc6fd405a8af4a05be092f7eb792da70"
      }
     },
     "c5d1b60e16dc4283ab9e2744570d4782": {
      "model_module": "@jupyter-widgets/base",
      "model_module_version": "1.2.0",
      "model_name": "LayoutModel",
      "state": {}
     },
     "c66063c642f840edaceb91a9023f6665": {
      "model_module": "@jupyter-widgets/base",
      "model_module_version": "1.2.0",
      "model_name": "LayoutModel",
      "state": {}
     },
     "c691e47810784a49846901f37d7676bd": {
      "model_module": "@jupyter-widgets/controls",
      "model_module_version": "1.5.0",
      "model_name": "DropdownModel",
      "state": {
       "_options_labels": [
        "duration",
        "credit_amount",
        "installment_commitment",
        "residence_since",
        "age",
        "existing_credits",
        "num_dependents"
       ],
       "description": "Values",
       "index": 0,
       "layout": "IPY_MODEL_408ca8a6bf5d4facb5dbad9e48663404",
       "style": "IPY_MODEL_35206e45fa0241c59deee298aaa756e9"
      }
     },
     "c7aad37609b144a891e7e58d7e4cb1e4": {
      "model_module": "@jupyter-widgets/controls",
      "model_module_version": "1.5.0",
      "model_name": "DropdownModel",
      "state": {
       "_options_labels": [
        "Greys",
        "Greens",
        "Bluered",
        "RdBu",
        "Reds",
        "Blues",
        "Picnic",
        "Rainbow",
        "Portland",
        "Jet",
        "Hot",
        "Blackbody",
        "Earth",
        "Electric",
        "Viridis",
        "Cividis"
       ],
       "description": "colorscale",
       "index": 0,
       "layout": "IPY_MODEL_bd95fffd9c0f457bbf286ab987679738",
       "style": "IPY_MODEL_a056910e3a174e3591ab62c90517631c"
      }
     },
     "c7fd7ea8b8ea470cb5fca69e2fdc49f6": {
      "model_module": "@jupyter-widgets/controls",
      "model_module_version": "1.5.0",
      "model_name": "ButtonStyleModel",
      "state": {}
     },
     "c8070183533c4cb69b875741aab23bb7": {
      "model_module": "@jupyter-widgets/base",
      "model_module_version": "1.2.0",
      "model_name": "LayoutModel",
      "state": {}
     },
     "c88920f391054ae1bb7d29022de6a9f2": {
      "model_module": "@jupyter-widgets/base",
      "model_module_version": "1.2.0",
      "model_name": "LayoutModel",
      "state": {}
     },
     "ca7bd71f352e4fa091d50d6a33f8b0f9": {
      "model_module": "@jupyter-widgets/base",
      "model_module_version": "1.2.0",
      "model_name": "LayoutModel",
      "state": {}
     },
     "cafe268468104f93aa3339ec71b8aff3": {
      "model_module": "@jupyter-widgets/base",
      "model_module_version": "1.2.0",
      "model_name": "LayoutModel",
      "state": {}
     },
     "cb5958421bd9437e878cbcda32575b8b": {
      "model_module": "@jupyter-widgets/controls",
      "model_module_version": "1.5.0",
      "model_name": "ButtonStyleModel",
      "state": {}
     },
     "cbca86bd2a0349c59cdbc7e06f430781": {
      "model_module": "@jupyter-widgets/base",
      "model_module_version": "1.2.0",
      "model_name": "LayoutModel",
      "state": {}
     },
     "cccb817cb8344299a6a1e2db29bbbaa0": {
      "model_module": "@jupyter-widgets/base",
      "model_module_version": "1.2.0",
      "model_name": "LayoutModel",
      "state": {}
     },
     "cd5a4cc051c8465a9f60f88587099082": {
      "model_module": "@jupyter-widgets/controls",
      "model_module_version": "1.5.0",
      "model_name": "DescriptionStyleModel",
      "state": {
       "description_width": ""
      }
     },
     "cef4d370931d4aae9720ed462d1d4760": {
      "model_module": "@jupyter-widgets/controls",
      "model_module_version": "1.5.0",
      "model_name": "DescriptionStyleModel",
      "state": {
       "description_width": ""
      }
     },
     "cf21a7d183e24af984b5b79a14702a61": {
      "model_module": "@jupyter-widgets/base",
      "model_module_version": "1.2.0",
      "model_name": "LayoutModel",
      "state": {}
     },
     "cf603c1d209644b6a351e01f2d7de7c4": {
      "model_module": "@jupyter-widgets/controls",
      "model_module_version": "1.5.0",
      "model_name": "ButtonStyleModel",
      "state": {}
     },
     "cfd60c4567044dd787b80a64d112f6d1": {
      "model_module": "@jupyter-widgets/controls",
      "model_module_version": "1.5.0",
      "model_name": "ButtonModel",
      "state": {
       "description": "Make_Chart",
       "layout": "IPY_MODEL_e247c5b139ed48e699d97deea5362073",
       "style": "IPY_MODEL_1e75fc2f15b8491ab3f0068ade88d9c9"
      }
     },
     "cfdd2ec4496c488a8aff4d8faa4ff65b": {
      "model_module": "@jupyter-widgets/base",
      "model_module_version": "1.2.0",
      "model_name": "LayoutModel",
      "state": {}
     },
     "d0841f4768434fed84e9e218e4b26194": {
      "model_module": "@jupyter-widgets/controls",
      "model_module_version": "1.5.0",
      "model_name": "DropdownModel",
      "state": {
       "_options_labels": [
        "credit_amount",
        "installment_commitment",
        "residence_since",
        "age",
        "existing_credits",
        "num_dependents"
       ],
       "description": "Y_Axis",
       "index": 0,
       "layout": "IPY_MODEL_2902877bc4b6446bb72a6449431a3f38",
       "style": "IPY_MODEL_1022fe5be1e74b6e9759bb8c18479d5b"
      }
     },
     "d0b3ac947e824bd8ab5fa67b43aaae1e": {
      "model_module": "@jupyter-widgets/base",
      "model_module_version": "1.2.0",
      "model_name": "LayoutModel",
      "state": {}
     },
     "d0f17f28832b4ee9a1effa345278fe40": {
      "model_module": "@jupyter-widgets/controls",
      "model_module_version": "1.5.0",
      "model_name": "ButtonStyleModel",
      "state": {}
     },
     "d0fd68a6c0b348ab97596764b46d8102": {
      "model_module": "@jupyter-widgets/controls",
      "model_module_version": "1.5.0",
      "model_name": "ButtonModel",
      "state": {
       "description": "Make_Chart",
       "layout": "IPY_MODEL_c354454a67f24e5dabe8e26fdca2b026",
       "style": "IPY_MODEL_c1a9163549a644238e49199a5b6efcd5"
      }
     },
     "d1e5be85988e4e959f67bdd37b67de54": {
      "model_module": "@jupyter-widgets/base",
      "model_module_version": "1.2.0",
      "model_name": "LayoutModel",
      "state": {}
     },
     "d1f14a7a60384b56ba4fca7d2966e1a3": {
      "model_module": "@jupyter-widgets/controls",
      "model_module_version": "1.5.0",
      "model_name": "ButtonStyleModel",
      "state": {}
     },
     "d26b08a18de94953b594eafff6e834ea": {
      "model_module": "@jupyter-widgets/controls",
      "model_module_version": "1.5.0",
      "model_name": "DescriptionStyleModel",
      "state": {
       "description_width": ""
      }
     },
     "d35b6232e90543e08223a43703a2fbbc": {
      "model_module": "@jupyter-widgets/base",
      "model_module_version": "1.2.0",
      "model_name": "LayoutModel",
      "state": {}
     },
     "d4176e7da8744571a3a7f82ef292a269": {
      "model_module": "@jupyter-widgets/controls",
      "model_module_version": "1.5.0",
      "model_name": "DescriptionStyleModel",
      "state": {
       "description_width": ""
      }
     },
     "d45650bd22394d2cbc948cd83fc38860": {
      "model_module": "@jupyter-widgets/base",
      "model_module_version": "1.2.0",
      "model_name": "LayoutModel",
      "state": {}
     },
     "d4d8fd0772684a6eb73fe4740353cbca": {
      "model_module": "@jupyter-widgets/output",
      "model_module_version": "1.0.0",
      "model_name": "OutputModel",
      "state": {
       "layout": "IPY_MODEL_f95599d11b38419daaede0bba1fb8359"
      }
     },
     "d53e3f92f5d04e3e9371fd69a5ba43dc": {
      "model_module": "@jupyter-widgets/base",
      "model_module_version": "1.2.0",
      "model_name": "LayoutModel",
      "state": {}
     },
     "d5630a79f48f44a0bc1ef7e631cd0f4b": {
      "model_module": "@jupyter-widgets/controls",
      "model_module_version": "1.5.0",
      "model_name": "ButtonModel",
      "state": {
       "description": "Make_Chart",
       "layout": "IPY_MODEL_498d9403385a426ea3fcf5dade059536",
       "style": "IPY_MODEL_787b9a4f466f4abaa9086f8314370ab2"
      }
     },
     "d6098a060b404bf2a3ae78d46236a1b8": {
      "model_module": "@jupyter-widgets/controls",
      "model_module_version": "1.5.0",
      "model_name": "VBoxModel",
      "state": {
       "_dom_classes": [
        "widget-interact"
       ],
       "children": [
        "IPY_MODEL_c7aad37609b144a891e7e58d7e4cb1e4",
        "IPY_MODEL_16cd830e21e4463c8ea0517bf9163842",
        "IPY_MODEL_bba4f3e6a447406ca0a90fdf90abda5f"
       ],
       "layout": "IPY_MODEL_2b1e03cf0a3c4d6d8075b79d6e776fd3"
      }
     },
     "d6b6cb8bea0d4a9cbcd0e567127c2b48": {
      "model_module": "@jupyter-widgets/controls",
      "model_module_version": "1.5.0",
      "model_name": "HTMLModel",
      "state": {
       "layout": "IPY_MODEL_51c8ba35aa6144df922517e1bf9e0883",
       "style": "IPY_MODEL_e5cf23fb631e4cd180a2cf9135ec33fe",
       "value": "<h1>Pie Charts </h1>"
      }
     },
     "d6fb749c555144e2aa1c48b91ff729b2": {
      "model_module": "@jupyter-widgets/base",
      "model_module_version": "1.2.0",
      "model_name": "LayoutModel",
      "state": {}
     },
     "d75f6ea2ddb74a859ae1cd531427419c": {
      "model_module": "@jupyter-widgets/output",
      "model_module_version": "1.0.0",
      "model_name": "OutputModel",
      "state": {
       "layout": "IPY_MODEL_0cbcf15de977407aa4df3949209c77ec",
       "outputs": [
        {
         "data": {
          "application/vnd.jupyter.widget-view+json": {
           "model_id": "9a5c985cbb274e08a345103a60c84dce",
           "version_major": 2,
           "version_minor": 0
          },
          "text/plain": "HTML(value='<h1>Distribution Plots </h1>')"
         },
         "metadata": {},
         "output_type": "display_data"
        },
        {
         "data": {
          "application/vnd.jupyter.widget-view+json": {
           "model_id": "81416092a4be45bbb59fb21c52fb6b1d",
           "version_major": 2,
           "version_minor": 0
          },
          "text/plain": "HBox(children=(interactive(children=(Dropdown(description='X_Axis', options=('duration', 'credit_amount', 'ins…"
         },
         "metadata": {},
         "output_type": "display_data"
        },
        {
         "data": {
          "application/vnd.jupyter.widget-view+json": {
           "model_id": "57cd9e264f634004b3462864b3c6d7e7",
           "version_major": 2,
           "version_minor": 0
          },
          "text/plain": "HBox(children=(interactive(children=(Dropdown(description='X_Axis', options=('duration', 'credit_amount', 'ins…"
         },
         "metadata": {},
         "output_type": "display_data"
        }
       ]
      }
     },
     "d8420b4181824e2b8c28ec0bea3e3a21": {
      "model_module": "@jupyter-widgets/controls",
      "model_module_version": "1.5.0",
      "model_name": "VBoxModel",
      "state": {
       "_dom_classes": [
        "widget-interact"
       ],
       "children": [
        "IPY_MODEL_a58babdcffe843f0b2cb6f513b559eff",
        "IPY_MODEL_1bfee92abc3c422282faf58cc0262d1b",
        "IPY_MODEL_5e21197c158445519d6a9d8625bebd45",
        "IPY_MODEL_7d97bb3330a7470f8bb9e7493456a6c4"
       ],
       "layout": "IPY_MODEL_12f81c95268845b183dfa1c4b2bed442"
      }
     },
     "d8b9a73d35e945a2a0e0739c4919b208": {
      "model_module": "@jupyter-widgets/controls",
      "model_module_version": "1.5.0",
      "model_name": "DescriptionStyleModel",
      "state": {
       "description_width": ""
      }
     },
     "d9f5234ac9db44b587ced9c2044a0659": {
      "model_module": "@jupyter-widgets/controls",
      "model_module_version": "1.5.0",
      "model_name": "HTMLModel",
      "state": {
       "layout": "IPY_MODEL_2dcbfeef4b6743e08bb225f6cd942cdc",
       "style": "IPY_MODEL_30945b7e490245beb443dfcee76c986a",
       "value": "<h1>Box Plots </h1>"
      }
     },
     "da13493f57954bee97822c16ef76aa76": {
      "model_module": "@jupyter-widgets/base",
      "model_module_version": "1.2.0",
      "model_name": "LayoutModel",
      "state": {}
     },
     "da281b97877645ae91039bd56849e650": {
      "model_module": "@jupyter-widgets/base",
      "model_module_version": "1.2.0",
      "model_name": "LayoutModel",
      "state": {}
     },
     "da528d859ef642c89c3816a68dce7a6f": {
      "model_module": "@jupyter-widgets/controls",
      "model_module_version": "1.5.0",
      "model_name": "DropdownModel",
      "state": {
       "_options_labels": [
        "checking_status",
        "credit_history",
        "purpose",
        "savings_status",
        "employment",
        "personal_status",
        "other_parties",
        "property_magnitude",
        "other_payment_plans",
        "housing",
        "job",
        "own_telephone",
        "foreign_worker",
        "class"
       ],
       "description": "X_Axis",
       "index": 0,
       "layout": "IPY_MODEL_3e87b22c288f4e649c400efad199d20d",
       "style": "IPY_MODEL_4a1debb603f34c0080f55a9451457766"
      }
     },
     "db800f4b51144fc29f3c77c2755518c8": {
      "model_module": "@jupyter-widgets/controls",
      "model_module_version": "1.5.0",
      "model_name": "DropdownModel",
      "state": {
       "_options_labels": [
        "duration",
        "credit_amount",
        "installment_commitment",
        "residence_since",
        "age",
        "existing_credits",
        "num_dependents"
       ],
       "description": "X_Axis",
       "index": 0,
       "layout": "IPY_MODEL_ffd2352b07034e9d8737a7727ad7911c",
       "style": "IPY_MODEL_4f97c58d7add4799878247794cf9e727"
      }
     },
     "dc6fd405a8af4a05be092f7eb792da70": {
      "model_module": "@jupyter-widgets/base",
      "model_module_version": "1.2.0",
      "model_name": "LayoutModel",
      "state": {}
     },
     "dd6ed368e33b4d5cb7cb6555b5c2d2df": {
      "model_module": "@jupyter-widgets/output",
      "model_module_version": "1.0.0",
      "model_name": "OutputModel",
      "state": {
       "layout": "IPY_MODEL_e31ec6b342c04718a3be09bcf705a188"
      }
     },
     "ddacb5120488480d9b105f489fe7b939": {
      "model_module": "@jupyter-widgets/base",
      "model_module_version": "1.2.0",
      "model_name": "LayoutModel",
      "state": {}
     },
     "ddd6b94ddb444334aaecc709c93fab41": {
      "model_module": "@jupyter-widgets/base",
      "model_module_version": "1.2.0",
      "model_name": "LayoutModel",
      "state": {}
     },
     "de534b59df654f279f19da12ced71e9a": {
      "model_module": "@jupyter-widgets/output",
      "model_module_version": "1.0.0",
      "model_name": "OutputModel",
      "state": {
       "layout": "IPY_MODEL_59385db3caa34ce7bb692e5a0dde751c"
      }
     },
     "deca311b3a6b4867be7a0561ee67f2a1": {
      "model_module": "@jupyter-widgets/controls",
      "model_module_version": "1.5.0",
      "model_name": "DropdownModel",
      "state": {
       "_options_labels": [
        "credit_amount",
        "installment_commitment",
        "residence_since",
        "age",
        "existing_credits",
        "num_dependents"
       ],
       "description": "Y_Axis",
       "index": 0,
       "layout": "IPY_MODEL_a77099ffd5b94a5ca0404a0332421b5e",
       "style": "IPY_MODEL_52e13196b83b4e22aec6c8863eca4c03"
      }
     },
     "e091b755aa774a32ad62deb3934440a0": {
      "model_module": "@jupyter-widgets/controls",
      "model_module_version": "1.5.0",
      "model_name": "DescriptionStyleModel",
      "state": {
       "description_width": ""
      }
     },
     "e0a1d543f0414209a39fbd51e5f54dc2": {
      "model_module": "@jupyter-widgets/controls",
      "model_module_version": "1.5.0",
      "model_name": "ButtonStyleModel",
      "state": {}
     },
     "e0a78d9159ad4a0ab657f49bc9932e97": {
      "model_module": "@jupyter-widgets/base",
      "model_module_version": "1.2.0",
      "model_name": "LayoutModel",
      "state": {}
     },
     "e1944e73af604b7198b67c0449de0348": {
      "model_module": "@jupyter-widgets/base",
      "model_module_version": "1.2.0",
      "model_name": "LayoutModel",
      "state": {}
     },
     "e1945bcbf4874864b3984cc639e1ef14": {
      "model_module": "@jupyter-widgets/base",
      "model_module_version": "1.2.0",
      "model_name": "LayoutModel",
      "state": {}
     },
     "e19fd5ef60c5424abf57ecc203a51bfc": {
      "model_module": "@jupyter-widgets/base",
      "model_module_version": "1.2.0",
      "model_name": "LayoutModel",
      "state": {}
     },
     "e1d8295268a540f893a8a0cfd31bd252": {
      "model_module": "@jupyter-widgets/controls",
      "model_module_version": "1.5.0",
      "model_name": "HBoxModel",
      "state": {
       "children": [
        "IPY_MODEL_5e14636eb2e14cfa905938607c6f11ea",
        "IPY_MODEL_022387765e4e47e88fdacdc871ea2a61"
       ],
       "layout": "IPY_MODEL_a611e980714e4997998c588045dbb5a4"
      }
     },
     "e247c5b139ed48e699d97deea5362073": {
      "model_module": "@jupyter-widgets/base",
      "model_module_version": "1.2.0",
      "model_name": "LayoutModel",
      "state": {}
     },
     "e270ebdd2f8b4ff897b9612c3957c50f": {
      "model_module": "@jupyter-widgets/controls",
      "model_module_version": "1.5.0",
      "model_name": "ButtonModel",
      "state": {
       "description": "Make_Chart",
       "layout": "IPY_MODEL_f65af468970c4adfaf0330654537f0c1",
       "style": "IPY_MODEL_4685a5973b964812b6d71df5a4cd60bb"
      }
     },
     "e28b3542eeae4d03ae3ca1a129df69d8": {
      "model_module": "@jupyter-widgets/controls",
      "model_module_version": "1.5.0",
      "model_name": "VBoxModel",
      "state": {
       "_dom_classes": [
        "widget-interact"
       ],
       "children": [
        "IPY_MODEL_377e88ef1fd64450853982905b08db97",
        "IPY_MODEL_d0841f4768434fed84e9e218e4b26194",
        "IPY_MODEL_3a330504bb5d44d7b84ec58057baeb88",
        "IPY_MODEL_0c9ce517cfd647d49d87e60131194d7d",
        "IPY_MODEL_1190aa72e86f4a1297b81381dd1124a3"
       ],
       "layout": "IPY_MODEL_bb7e702805ed406ba63398e20e916e3e"
      }
     },
     "e31ec6b342c04718a3be09bcf705a188": {
      "model_module": "@jupyter-widgets/base",
      "model_module_version": "1.2.0",
      "model_name": "LayoutModel",
      "state": {}
     },
     "e4797a990f25479baaef708a6d922c1a": {
      "model_module": "@jupyter-widgets/controls",
      "model_module_version": "1.5.0",
      "model_name": "DescriptionStyleModel",
      "state": {
       "description_width": ""
      }
     },
     "e5cf23fb631e4cd180a2cf9135ec33fe": {
      "model_module": "@jupyter-widgets/controls",
      "model_module_version": "1.5.0",
      "model_name": "DescriptionStyleModel",
      "state": {
       "description_width": ""
      }
     },
     "e60f8e00e9e44e1e8d122496605fa0ed": {
      "model_module": "@jupyter-widgets/controls",
      "model_module_version": "1.5.0",
      "model_name": "DescriptionStyleModel",
      "state": {
       "description_width": ""
      }
     },
     "e68be73d62f44e9ca34e151dd7a79e70": {
      "model_module": "@jupyter-widgets/controls",
      "model_module_version": "1.5.0",
      "model_name": "ButtonModel",
      "state": {
       "description": "Make_Chart",
       "layout": "IPY_MODEL_3b21a011a8ad49fb82d30acc6f9a907e",
       "style": "IPY_MODEL_1a1a1ebcdad54d199ad405bcc0ce22e4"
      }
     },
     "e68da8faa3854c12a34c79e745804f55": {
      "model_module": "@jupyter-widgets/controls",
      "model_module_version": "1.5.0",
      "model_name": "DropdownModel",
      "state": {
       "_options_labels": [
        "checking_status",
        "credit_history",
        "purpose",
        "savings_status",
        "employment",
        "personal_status",
        "other_parties",
        "property_magnitude",
        "other_payment_plans",
        "housing",
        "job",
        "own_telephone",
        "foreign_worker",
        "class"
       ],
       "description": "Color",
       "index": 0,
       "layout": "IPY_MODEL_1acd2944bea4434eb4d3d064ecbd09c5",
       "style": "IPY_MODEL_e4797a990f25479baaef708a6d922c1a"
      }
     },
     "e6a6dda13de14ec6b85b3fdf0626129b": {
      "model_module": "@jupyter-widgets/output",
      "model_module_version": "1.0.0",
      "model_name": "OutputModel",
      "state": {
       "layout": "IPY_MODEL_809a71d9cf4e4942beb188fd22dc06fd"
      }
     },
     "e6fb2ca227ae48c3a3f3b1d4ca99428e": {
      "model_module": "@jupyter-widgets/controls",
      "model_module_version": "1.5.0",
      "model_name": "VBoxModel",
      "state": {
       "_dom_classes": [
        "widget-interact"
       ],
       "children": [
        "IPY_MODEL_f4ef1f6b125a4012bcba79221f6e0caf",
        "IPY_MODEL_ee8004faa0f14b6aaf279e7294ffaed1",
        "IPY_MODEL_b6196f26ad1f4be4b1bb52d0405f0306",
        "IPY_MODEL_223726e30f274dc0884261148c10ce87",
        "IPY_MODEL_fa7783b16ba648329bf03ae88ec3c571"
       ],
       "layout": "IPY_MODEL_ae551c30c7e04bfdbab92bc255a57255"
      }
     },
     "e839b32c7def4ecc9e68faee56023b56": {
      "model_module": "@jupyter-widgets/base",
      "model_module_version": "1.2.0",
      "model_name": "LayoutModel",
      "state": {}
     },
     "e95063c301494808870a5b0c21d041d4": {
      "model_module": "@jupyter-widgets/base",
      "model_module_version": "1.2.0",
      "model_name": "LayoutModel",
      "state": {}
     },
     "ea62f412f3ed4ba69dc7faca73f39465": {
      "model_module": "@jupyter-widgets/controls",
      "model_module_version": "1.5.0",
      "model_name": "DescriptionStyleModel",
      "state": {
       "description_width": ""
      }
     },
     "ea9776a47504486b8ea27b63097c6108": {
      "model_module": "@jupyter-widgets/controls",
      "model_module_version": "1.5.0",
      "model_name": "DescriptionStyleModel",
      "state": {
       "description_width": ""
      }
     },
     "eb054a2240f244139309a7ba34a211cf": {
      "model_module": "@jupyter-widgets/controls",
      "model_module_version": "1.5.0",
      "model_name": "DescriptionStyleModel",
      "state": {
       "description_width": ""
      }
     },
     "eb22e98d373f42dda48f8d08ab166886": {
      "model_module": "@jupyter-widgets/controls",
      "model_module_version": "1.5.0",
      "model_name": "DropdownModel",
      "state": {
       "_options_labels": [
        "checking_status",
        "credit_history",
        "purpose",
        "savings_status",
        "employment",
        "personal_status",
        "other_parties",
        "property_magnitude",
        "other_payment_plans",
        "housing",
        "job",
        "own_telephone",
        "foreign_worker",
        "class"
       ],
       "description": "Color",
       "index": 0,
       "layout": "IPY_MODEL_87871c8e97b44a28abeb51e7e19ae784",
       "style": "IPY_MODEL_44545e9c5caf45c6b076a2c39f6755cd"
      }
     },
     "eb329e1999ff494b9e307dbd09b2602a": {
      "model_module": "@jupyter-widgets/controls",
      "model_module_version": "1.5.0",
      "model_name": "DropdownModel",
      "state": {
       "_options_labels": [
        "credit_amount",
        "installment_commitment",
        "residence_since",
        "age",
        "existing_credits",
        "num_dependents"
       ],
       "description": "Y_Axis",
       "index": 0,
       "layout": "IPY_MODEL_c37d0f0786ac4464b98b7e02c9d1234f",
       "style": "IPY_MODEL_b08757b51a4c45fabb1c8b94c5a321be"
      }
     },
     "eb7b31d7e56245459c723c97d6210422": {
      "model_module": "@jupyter-widgets/controls",
      "model_module_version": "1.5.0",
      "model_name": "DescriptionStyleModel",
      "state": {
       "description_width": ""
      }
     },
     "eccfd9687d674f0a911f9b0008911248": {
      "model_module": "@jupyter-widgets/base",
      "model_module_version": "1.2.0",
      "model_name": "LayoutModel",
      "state": {}
     },
     "edc7ae74f4824060bcd4475b52e8db75": {
      "model_module": "@jupyter-widgets/controls",
      "model_module_version": "1.5.0",
      "model_name": "DescriptionStyleModel",
      "state": {
       "description_width": ""
      }
     },
     "ee8004faa0f14b6aaf279e7294ffaed1": {
      "model_module": "@jupyter-widgets/controls",
      "model_module_version": "1.5.0",
      "model_name": "DropdownModel",
      "state": {
       "_options_labels": [
        "credit_amount",
        "installment_commitment",
        "residence_since",
        "age",
        "existing_credits",
        "num_dependents"
       ],
       "description": "Y_Axis",
       "index": 0,
       "layout": "IPY_MODEL_8afd2527939942a18753475222288214",
       "style": "IPY_MODEL_21915a7a25e54fe5b0a0d12fe0074017"
      }
     },
     "eeef67b89a1a41bca0d092784b7e62cc": {
      "model_module": "@jupyter-widgets/controls",
      "model_module_version": "1.5.0",
      "model_name": "VBoxModel",
      "state": {
       "_dom_classes": [
        "widget-interact"
       ],
       "children": [
        "IPY_MODEL_7679d8c983cc42d08fd454266af13417",
        "IPY_MODEL_75cec13f5a8a434da646ece11436ef3b",
        "IPY_MODEL_e68da8faa3854c12a34c79e745804f55",
        "IPY_MODEL_8e76b9b0b4674809b43e453a710c2a3d",
        "IPY_MODEL_de534b59df654f279f19da12ced71e9a"
       ],
       "layout": "IPY_MODEL_03c99b665d6c4cf29846e0ad205c044e"
      }
     },
     "ef61172c743442dd808d5d5feb7d13be": {
      "model_module": "@jupyter-widgets/controls",
      "model_module_version": "1.5.0",
      "model_name": "DropdownModel",
      "state": {
       "_options_labels": [
        "duration",
        "credit_amount",
        "installment_commitment",
        "residence_since",
        "age",
        "existing_credits",
        "num_dependents"
       ],
       "description": "X_Axis",
       "index": 0,
       "layout": "IPY_MODEL_34d9d263119544eb8e2ca40b0b69a0a1",
       "style": "IPY_MODEL_ea9776a47504486b8ea27b63097c6108"
      }
     },
     "f0323ad178ec468b8fb2e767a9f86ab5": {
      "model_module": "@jupyter-widgets/controls",
      "model_module_version": "1.5.0",
      "model_name": "ButtonStyleModel",
      "state": {}
     },
     "f1152f2d665148d8a8175a4943b185fa": {
      "model_module": "@jupyter-widgets/controls",
      "model_module_version": "1.5.0",
      "model_name": "DescriptionStyleModel",
      "state": {
       "description_width": ""
      }
     },
     "f24ee5be42f4455e9baafc5b1b458abd": {
      "model_module": "@jupyter-widgets/controls",
      "model_module_version": "1.5.0",
      "model_name": "DescriptionStyleModel",
      "state": {
       "description_width": ""
      }
     },
     "f285f56706d248898c822ea3516d078d": {
      "model_module": "@jupyter-widgets/controls",
      "model_module_version": "1.5.0",
      "model_name": "ButtonStyleModel",
      "state": {}
     },
     "f299b2510a9a46bfb9ce9f142cf1dec8": {
      "model_module": "@jupyter-widgets/controls",
      "model_module_version": "1.5.0",
      "model_name": "VBoxModel",
      "state": {
       "_dom_classes": [
        "widget-interact"
       ],
       "children": [
        "IPY_MODEL_52a1da5e7d744192948663de4eb04e36",
        "IPY_MODEL_9eff6291deae4e8db79fc8d8286fd9e9",
        "IPY_MODEL_5f77e7ebc94b4e0d9b42a337a1881548"
       ],
       "layout": "IPY_MODEL_54fccc7ca73848728d53981e9049e3a2"
      }
     },
     "f2c94efe057e437ba1141744895d2963": {
      "model_module": "@jupyter-widgets/base",
      "model_module_version": "1.2.0",
      "model_name": "LayoutModel",
      "state": {}
     },
     "f33f335d618a42acae3675493d5bac31": {
      "model_module": "@jupyter-widgets/output",
      "model_module_version": "1.0.0",
      "model_name": "OutputModel",
      "state": {
       "layout": "IPY_MODEL_ca7bd71f352e4fa091d50d6a33f8b0f9"
      }
     },
     "f409c65d3a6b4afa98082d1cd0773d23": {
      "model_module": "@jupyter-widgets/base",
      "model_module_version": "1.2.0",
      "model_name": "LayoutModel",
      "state": {}
     },
     "f46af074fbee490591c2ec565523a918": {
      "model_module": "@jupyter-widgets/controls",
      "model_module_version": "1.5.0",
      "model_name": "DescriptionStyleModel",
      "state": {
       "description_width": ""
      }
     },
     "f4ef1f6b125a4012bcba79221f6e0caf": {
      "model_module": "@jupyter-widgets/controls",
      "model_module_version": "1.5.0",
      "model_name": "DropdownModel",
      "state": {
       "_options_labels": [
        "duration",
        "credit_amount",
        "installment_commitment",
        "residence_since",
        "age",
        "existing_credits",
        "num_dependents"
       ],
       "description": "X_Axis",
       "index": 0,
       "layout": "IPY_MODEL_c140cd4e889241e09cc2bda344ce9524",
       "style": "IPY_MODEL_fd7074441afc479c827e8dd5336c8a3a"
      }
     },
     "f5653298370e4d999cb4f3d08bdf138a": {
      "model_module": "@jupyter-widgets/controls",
      "model_module_version": "1.5.0",
      "model_name": "ButtonModel",
      "state": {
       "description": "Make_Chart",
       "layout": "IPY_MODEL_a4fef298afd642d5b3a8a3f7df858c2c",
       "style": "IPY_MODEL_e0a1d543f0414209a39fbd51e5f54dc2"
      }
     },
     "f65af468970c4adfaf0330654537f0c1": {
      "model_module": "@jupyter-widgets/base",
      "model_module_version": "1.2.0",
      "model_name": "LayoutModel",
      "state": {}
     },
     "f670085779be453ca38ebc32081855ff": {
      "model_module": "@jupyter-widgets/base",
      "model_module_version": "1.2.0",
      "model_name": "LayoutModel",
      "state": {}
     },
     "f75536362ae84a6297fefe4b83ef62de": {
      "model_module": "@jupyter-widgets/controls",
      "model_module_version": "1.5.0",
      "model_name": "HTMLModel",
      "state": {
       "layout": "IPY_MODEL_7a655fafcfd34e60b12d825d51bc22ad",
       "style": "IPY_MODEL_4e11e38d8d2d4e85a3f6c709f848e9b0",
       "value": "<h2>Pywedge Make_Charts </h2>"
      }
     },
     "f88eb552bd2c41779315d591fae09fb7": {
      "model_module": "@jupyter-widgets/controls",
      "model_module_version": "1.5.0",
      "model_name": "DescriptionStyleModel",
      "state": {
       "description_width": ""
      }
     },
     "f8def3b28c794ff497d5cd1df4ead26f": {
      "model_module": "@jupyter-widgets/controls",
      "model_module_version": "1.5.0",
      "model_name": "DescriptionStyleModel",
      "state": {
       "description_width": ""
      }
     },
     "f95599d11b38419daaede0bba1fb8359": {
      "model_module": "@jupyter-widgets/base",
      "model_module_version": "1.2.0",
      "model_name": "LayoutModel",
      "state": {}
     },
     "f983cedf20dd416d873b654694fea69a": {
      "model_module": "@jupyter-widgets/controls",
      "model_module_version": "1.5.0",
      "model_name": "DescriptionStyleModel",
      "state": {
       "description_width": ""
      }
     },
     "f99f37fdc6174f5eb3e45221ec9be7a1": {
      "model_module": "@jupyter-widgets/controls",
      "model_module_version": "1.5.0",
      "model_name": "ButtonModel",
      "state": {
       "description": "Make_Chart",
       "layout": "IPY_MODEL_850535f7ccc64fd2bc4b4d5d5ed76057",
       "style": "IPY_MODEL_86dc63da254e41b6a1c02ca7d6eebeac"
      }
     },
     "f9d8a8c2f9f14a339de1ae0d5dd74a0f": {
      "model_module": "@jupyter-widgets/base",
      "model_module_version": "1.2.0",
      "model_name": "LayoutModel",
      "state": {}
     },
     "fa4fd2a79e6c4674a144afb4307b7171": {
      "model_module": "@jupyter-widgets/controls",
      "model_module_version": "1.5.0",
      "model_name": "DescriptionStyleModel",
      "state": {
       "description_width": ""
      }
     },
     "fa7783b16ba648329bf03ae88ec3c571": {
      "model_module": "@jupyter-widgets/output",
      "model_module_version": "1.0.0",
      "model_name": "OutputModel",
      "state": {
       "layout": "IPY_MODEL_720c1184f8184a65b7947a64a33c459e"
      }
     },
     "fae3431c666d49849d0d1d29e2a64d54": {
      "model_module": "@jupyter-widgets/base",
      "model_module_version": "1.2.0",
      "model_name": "LayoutModel",
      "state": {}
     },
     "fc775f877e184c46aaa7b506be07200b": {
      "model_module": "@jupyter-widgets/base",
      "model_module_version": "1.2.0",
      "model_name": "LayoutModel",
      "state": {}
     },
     "fd7074441afc479c827e8dd5336c8a3a": {
      "model_module": "@jupyter-widgets/controls",
      "model_module_version": "1.5.0",
      "model_name": "DescriptionStyleModel",
      "state": {
       "description_width": ""
      }
     },
     "ff7b1e3da28948efa1584529a51f63d7": {
      "model_module": "@jupyter-widgets/base",
      "model_module_version": "1.2.0",
      "model_name": "LayoutModel",
      "state": {}
     },
     "ff855596123e4022b03119a7fd28aa10": {
      "model_module": "@jupyter-widgets/base",
      "model_module_version": "1.2.0",
      "model_name": "LayoutModel",
      "state": {}
     },
     "ffd2352b07034e9d8737a7727ad7911c": {
      "model_module": "@jupyter-widgets/base",
      "model_module_version": "1.2.0",
      "model_name": "LayoutModel",
      "state": {}
     }
    },
    "version_major": 2,
    "version_minor": 0
   }
  }
 },
 "nbformat": 4,
 "nbformat_minor": 4
}
